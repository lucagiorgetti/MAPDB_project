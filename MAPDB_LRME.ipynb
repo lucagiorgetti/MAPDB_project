{
 "cells": [
  {
   "cell_type": "markdown",
   "id": "667f02f2",
   "metadata": {},
   "source": [
    "<hr style=\"border-top-width:4px; border-top-color: #00df;\">\n",
    "\n",
    "# Analysis of Covid-19 papers\n",
    "\n",
    "* Emerson\n",
    "* Mojtaba Roshana\n",
    "* Luca \n",
    "* Roya Joulaei\n",
    "\n",
    "<hr style=\"border-top-width:4px; border-top-color: #00df;\">\n"
   ]
  },
  {
   "cell_type": "markdown",
   "id": "f577f101",
   "metadata": {},
   "source": [
    "# Introduction\n",
    "This distributed computing project will be focused on the analysis of 1000 papers about COVID-19, SARS-CoV-2, and related coronaviruses. The dataset is a sub-sample of 1000 items taken from the original dataset that is composed of more than 75000 (and still growing) papers. This dataset is a part of real-world research on COVID-19 named COVID-19 Open Research Dataset Challenge (CORD-19). The research and related chal- lenges are available on the dedicated page on Kaggle: https://www.kaggle.com/allen- institute-for-ai/CORD-19-research-challenge\n"
   ]
  },
  {
   "cell_type": "code",
   "execution_count": 4,
   "id": "ac7469b2",
   "metadata": {},
   "outputs": [],
   "source": [
    "from dask.distributed import Client, SSHCluster\n",
    "from dask import delayed\n",
    "import dask.bag as db\n",
    "import dask.dataframe as ddf\n",
    "from dask.array import histogram\n",
    "import hvplot.dask\n",
    "\n",
    "import csv\n",
    "import pandas as pd\n",
    "import functools\n",
    "\n",
    "import os\n",
    "import json\n",
    "import time\n",
    "\n",
    "from nltk.tokenize import RegexpTokenizer\n",
    "from nltk.corpus import stopwords\n",
    "from nltk import word_tokenize\n",
    "import nltk\n",
    "\n",
    "from collections import Counter\n",
    "from operator import add\n",
    "from operator import itemgetter\n",
    "\n",
    "import numpy as np\n",
    "import matplotlib.pyplot as plt\n",
    "import bokeh.palettes as palette\n",
    "\n",
    "#import pandas as pd\n",
    "\n",
    "from operator import itemgetter\n",
    "import io\n",
    "import numpy as np\n",
    "\n"
   ]
  },
  {
   "cell_type": "markdown",
   "id": "96734f33",
   "metadata": {},
   "source": [
    "* There are three vitual machines: "
   ]
  },
  {
   "cell_type": "code",
   "execution_count": 97,
   "id": "c8ba4f33",
   "metadata": {},
   "outputs": [],
   "source": [
    "machine1 = '10.67.22.93'\n",
    "machine2 = '10.67.22.77'\n",
    "machine3 = '10.67.22.134'"
   ]
  },
  {
   "cell_type": "markdown",
   "id": "cf4b447b",
   "metadata": {},
   "source": [
    "* Define the Client with SSHCluster:"
   ]
  },
  {
   "cell_type": "code",
   "execution_count": 114,
   "id": "65783d94",
   "metadata": {},
   "outputs": [
    {
     "name": "stderr",
     "output_type": "stream",
     "text": [
      "2022-07-11 16:07:58,227 - distributed.deploy.ssh - INFO - /usr/local/lib/python3.8/dist-packages/distributed/node.py:180: UserWarning: Port 8787 is already in use.\n",
      "2022-07-11 16:07:58,229 - distributed.deploy.ssh - INFO - Perhaps you already have a cluster running?\n",
      "2022-07-11 16:07:58,230 - distributed.deploy.ssh - INFO - Hosting the HTTP server on port 37037 instead\n",
      "2022-07-11 16:07:58,232 - distributed.deploy.ssh - INFO - warnings.warn(\n",
      "2022-07-11 16:07:58,233 - distributed.deploy.ssh - INFO - 2022-07-11 16:07:58,224 - distributed.scheduler - INFO - State start\n",
      "2022-07-11 16:07:58,236 - distributed.deploy.ssh - INFO - 2022-07-11 16:07:58,231 - distributed.scheduler - INFO - Clear task state\n",
      "2022-07-11 16:07:58,237 - distributed.deploy.ssh - INFO - 2022-07-11 16:07:58,231 - distributed.scheduler - INFO -   Scheduler at:   tcp://10.67.22.77:34783\n",
      "2022-07-11 16:07:59,992 - distributed.deploy.ssh - INFO - 2022-07-11 16:07:59,990 - distributed.nanny - INFO -         Start Nanny at: 'tcp://10.67.22.134:37015'\n",
      "2022-07-11 16:08:00,433 - distributed.deploy.ssh - INFO - 2022-07-11 16:08:00,429 - distributed.worker - INFO -       Start worker at:   tcp://10.67.22.134:42313\n",
      "2022-07-11 16:08:00,480 - distributed.deploy.ssh - INFO - 2022-07-11 16:08:00,472 - distributed.nanny - INFO -         Start Nanny at: 'tcp://10.67.22.93:36533'\n",
      "2022-07-11 16:08:01,425 - distributed.deploy.ssh - INFO - 2022-07-11 16:08:01,416 - distributed.worker - INFO -       Start worker at:    tcp://10.67.22.93:46657\n"
     ]
    }
   ],
   "source": [
    "cluster = SSHCluster([machine2, machine1, machine3])\n",
    "client = Client(cluster)\n"
   ]
  },
  {
   "cell_type": "markdown",
   "id": "5022d822",
   "metadata": {},
   "source": [
    "* As we can see, machine2 is the sceduler and two others are the workers\n",
    "* We have 15.54 GiB RAM total memory"
   ]
  },
  {
   "cell_type": "code",
   "execution_count": 96,
   "id": "e28b49a1",
   "metadata": {},
   "outputs": [
    {
     "data": {
      "text/html": [
       "<div>\n",
       "    <div style=\"width: 24px; height: 24px; background-color: #e1e1e1; border: 3px solid #9D9D9D; border-radius: 5px; position: absolute;\"> </div>\n",
       "    <div style=\"margin-left: 48px;\">\n",
       "        <h3 style=\"margin-bottom: 0px;\">Client</h3>\n",
       "        <p style=\"color: #9D9D9D; margin-bottom: 0px;\">Client-d4eac4d2-012a-11ed-a02d-17d297bf7145</p>\n",
       "        <table style=\"width: 100%; text-align: left;\">\n",
       "\n",
       "        <tr>\n",
       "        \n",
       "            <td style=\"text-align: left;\"><strong>Connection method:</strong> Cluster object</td>\n",
       "            <td style=\"text-align: left;\"><strong>Cluster type:</strong> distributed.SpecCluster</td>\n",
       "        \n",
       "        </tr>\n",
       "\n",
       "        \n",
       "            <tr>\n",
       "                <td style=\"text-align: left;\">\n",
       "                    <strong>Dashboard: </strong> <a href=\"http://10.67.22.77:46711/status\" target=\"_blank\">http://10.67.22.77:46711/status</a>\n",
       "                </td>\n",
       "                <td style=\"text-align: left;\"></td>\n",
       "            </tr>\n",
       "        \n",
       "\n",
       "        </table>\n",
       "\n",
       "        \n",
       "            <details>\n",
       "            <summary style=\"margin-bottom: 20px;\"><h3 style=\"display: inline;\">Cluster Info</h3></summary>\n",
       "            <div class=\"jp-RenderedHTMLCommon jp-RenderedHTML jp-mod-trusted jp-OutputArea-output\">\n",
       "    <div style=\"width: 24px; height: 24px; background-color: #e1e1e1; border: 3px solid #9D9D9D; border-radius: 5px; position: absolute;\">\n",
       "    </div>\n",
       "    <div style=\"margin-left: 48px;\">\n",
       "        <h3 style=\"margin-bottom: 0px; margin-top: 0px;\">SpecCluster</h3>\n",
       "        <p style=\"color: #9D9D9D; margin-bottom: 0px;\">SSHCluster</p>\n",
       "        <table style=\"width: 100%; text-align: left;\">\n",
       "            <tr>\n",
       "                <td style=\"text-align: left;\">\n",
       "                    <strong>Dashboard:</strong> <a href=\"http://10.67.22.77:46711/status\" target=\"_blank\">http://10.67.22.77:46711/status</a>\n",
       "                </td>\n",
       "                <td style=\"text-align: left;\">\n",
       "                    <strong>Workers:</strong> 2\n",
       "                </td>\n",
       "            </tr>\n",
       "            <tr>\n",
       "                <td style=\"text-align: left;\">\n",
       "                    <strong>Total threads:</strong> 8\n",
       "                </td>\n",
       "                <td style=\"text-align: left;\">\n",
       "                    <strong>Total memory:</strong> 15.54 GiB\n",
       "                </td>\n",
       "            </tr>\n",
       "            \n",
       "        </table>\n",
       "\n",
       "        <details>\n",
       "            <summary style=\"margin-bottom: 20px;\">\n",
       "                <h3 style=\"display: inline;\">Scheduler Info</h3>\n",
       "            </summary>\n",
       "\n",
       "            <div style=\"\">\n",
       "    <div>\n",
       "        <div style=\"width: 24px; height: 24px; background-color: #FFF7E5; border: 3px solid #FF6132; border-radius: 5px; position: absolute;\"> </div>\n",
       "        <div style=\"margin-left: 48px;\">\n",
       "            <h3 style=\"margin-bottom: 0px;\">Scheduler</h3>\n",
       "            <p style=\"color: #9D9D9D; margin-bottom: 0px;\">Scheduler-015952f2-7ee6-4adb-9fc1-e088428195e9</p>\n",
       "            <table style=\"width: 100%; text-align: left;\">\n",
       "                <tr>\n",
       "                    <td style=\"text-align: left;\">\n",
       "                        <strong>Comm:</strong> tcp://10.67.22.77:41743\n",
       "                    </td>\n",
       "                    <td style=\"text-align: left;\">\n",
       "                        <strong>Workers:</strong> 2\n",
       "                    </td>\n",
       "                </tr>\n",
       "                <tr>\n",
       "                    <td style=\"text-align: left;\">\n",
       "                        <strong>Dashboard:</strong> <a href=\"http://10.67.22.77:46711/status\" target=\"_blank\">http://10.67.22.77:46711/status</a>\n",
       "                    </td>\n",
       "                    <td style=\"text-align: left;\">\n",
       "                        <strong>Total threads:</strong> 8\n",
       "                    </td>\n",
       "                </tr>\n",
       "                <tr>\n",
       "                    <td style=\"text-align: left;\">\n",
       "                        <strong>Started:</strong> 44 minutes ago\n",
       "                    </td>\n",
       "                    <td style=\"text-align: left;\">\n",
       "                        <strong>Total memory:</strong> 15.54 GiB\n",
       "                    </td>\n",
       "                </tr>\n",
       "            </table>\n",
       "        </div>\n",
       "    </div>\n",
       "\n",
       "    <details style=\"margin-left: 48px;\">\n",
       "        <summary style=\"margin-bottom: 20px;\">\n",
       "            <h3 style=\"display: inline;\">Workers</h3>\n",
       "        </summary>\n",
       "\n",
       "        \n",
       "        <div style=\"margin-bottom: 20px;\">\n",
       "            <div style=\"width: 24px; height: 24px; background-color: #DBF5FF; border: 3px solid #4CC9FF; border-radius: 5px; position: absolute;\"> </div>\n",
       "            <div style=\"margin-left: 48px;\">\n",
       "            <details>\n",
       "                <summary>\n",
       "                    <h4 style=\"margin-bottom: 0px; display: inline;\">Worker: tcp://10.67.22.134:46809</h4>\n",
       "                </summary>\n",
       "                <table style=\"width: 100%; text-align: left;\">\n",
       "                    <tr>\n",
       "                        <td style=\"text-align: left;\">\n",
       "                            <strong>Comm: </strong> tcp://10.67.22.134:46809\n",
       "                        </td>\n",
       "                        <td style=\"text-align: left;\">\n",
       "                            <strong>Total threads: </strong> 4\n",
       "                        </td>\n",
       "                    </tr>\n",
       "                    <tr>\n",
       "                        <td style=\"text-align: left;\">\n",
       "                            <strong>Dashboard: </strong> <a href=\"http://10.67.22.134:46561/status\" target=\"_blank\">http://10.67.22.134:46561/status</a>\n",
       "                        </td>\n",
       "                        <td style=\"text-align: left;\">\n",
       "                            <strong>Memory: </strong> 7.77 GiB\n",
       "                        </td>\n",
       "                    </tr>\n",
       "                    <tr>\n",
       "                        <td style=\"text-align: left;\">\n",
       "                            <strong>Nanny: </strong> tcp://10.67.22.134:38889\n",
       "                        </td>\n",
       "                        <td style=\"text-align: left;\"></td>\n",
       "                    </tr>\n",
       "                    <tr>\n",
       "                        <td colspan=\"2\" style=\"text-align: left;\">\n",
       "                            <strong>Local directory: </strong> /root/dask-worker-space/worker-ziylt7zl\n",
       "                        </td>\n",
       "                    </tr>\n",
       "\n",
       "                    \n",
       "\n",
       "                    \n",
       "\n",
       "                </table>\n",
       "            </details>\n",
       "            </div>\n",
       "        </div>\n",
       "        \n",
       "        <div style=\"margin-bottom: 20px;\">\n",
       "            <div style=\"width: 24px; height: 24px; background-color: #DBF5FF; border: 3px solid #4CC9FF; border-radius: 5px; position: absolute;\"> </div>\n",
       "            <div style=\"margin-left: 48px;\">\n",
       "            <details>\n",
       "                <summary>\n",
       "                    <h4 style=\"margin-bottom: 0px; display: inline;\">Worker: tcp://10.67.22.93:36763</h4>\n",
       "                </summary>\n",
       "                <table style=\"width: 100%; text-align: left;\">\n",
       "                    <tr>\n",
       "                        <td style=\"text-align: left;\">\n",
       "                            <strong>Comm: </strong> tcp://10.67.22.93:36763\n",
       "                        </td>\n",
       "                        <td style=\"text-align: left;\">\n",
       "                            <strong>Total threads: </strong> 4\n",
       "                        </td>\n",
       "                    </tr>\n",
       "                    <tr>\n",
       "                        <td style=\"text-align: left;\">\n",
       "                            <strong>Dashboard: </strong> <a href=\"http://10.67.22.93:37989/status\" target=\"_blank\">http://10.67.22.93:37989/status</a>\n",
       "                        </td>\n",
       "                        <td style=\"text-align: left;\">\n",
       "                            <strong>Memory: </strong> 7.77 GiB\n",
       "                        </td>\n",
       "                    </tr>\n",
       "                    <tr>\n",
       "                        <td style=\"text-align: left;\">\n",
       "                            <strong>Nanny: </strong> tcp://10.67.22.93:37979\n",
       "                        </td>\n",
       "                        <td style=\"text-align: left;\"></td>\n",
       "                    </tr>\n",
       "                    <tr>\n",
       "                        <td colspan=\"2\" style=\"text-align: left;\">\n",
       "                            <strong>Local directory: </strong> /root/dask-worker-space/worker-tb2abq6k\n",
       "                        </td>\n",
       "                    </tr>\n",
       "\n",
       "                    \n",
       "\n",
       "                    \n",
       "\n",
       "                </table>\n",
       "            </details>\n",
       "            </div>\n",
       "        </div>\n",
       "        \n",
       "\n",
       "    </details>\n",
       "</div>\n",
       "\n",
       "        </details>\n",
       "    </div>\n",
       "</div>\n",
       "            </details>\n",
       "        \n",
       "\n",
       "    </div>\n",
       "</div>"
      ],
      "text/plain": [
       "<Client: 'tcp://10.67.22.77:41743' processes=2 threads=8, memory=15.54 GiB>"
      ]
     },
     "execution_count": 96,
     "metadata": {},
     "output_type": "execute_result"
    }
   ],
   "source": [
    "client"
   ]
  },
  {
   "cell_type": "markdown",
   "id": "e4ae033c",
   "metadata": {},
   "source": [
    "# Loading the data  "
   ]
  },
  {
   "cell_type": "markdown",
   "id": "4d4c1066",
   "metadata": {},
   "source": [
    "* We make a 200Gib volume and download the data inside\n",
    "\n",
    "* Then make a 30Gib volume and attach it to machine2: /mnt\n",
    "\n",
    "* We make a shared space in that Volume by nfs : /mnt/nfs_share/\n",
    "\n",
    "* And collect 1000 of data  inside shared space\n"
   ]
  },
  {
   "cell_type": "markdown",
   "id": "b7a09cf9",
   "metadata": {},
   "source": [
    "Our RAW data are in json format multiple line therefore we convert them to single line json to make it readable:"
   ]
  },
  {
   "cell_type": "code",
   "execution_count": null,
   "id": "f6adc018",
   "metadata": {},
   "outputs": [],
   "source": [
    "'''\n",
    "def one_lined(filename):\n",
    "    f = open(filename)\n",
    "    obj = json.load(f)\n",
    "    flatten_str = json.dumps(obj)  #this coommaand convert a dictionary into a string\n",
    "    jsonFile=open(\"./new/\"+\"new_\"+filename,\"w\")\n",
    "    jsonFile.write(flatten_str)\n",
    "    jsonFile.close\n",
    "#l=os.listdir('/mnt/nfs_share/test')\n",
    "#cd /mnt/nfs_share/test\n",
    "\n",
    "for i in l:\n",
    "    if (i != 'new'):\n",
    "        print(i)\n",
    "        f = open(i)\n",
    "        obj = json.load(f)\n",
    "        flatten_str = json.dumps(obj)\n",
    "        jsonFile=open(\"./new/\"+\"new_\"+i,\"w\")\n",
    "        jsonFile.write(flatten_str)\n",
    "        jsonFile.close\n",
    "'''"
   ]
  },
  {
   "cell_type": "markdown",
   "id": "9e5d0557",
   "metadata": {},
   "source": [
    "## Make a dask-bag\n",
    "Take all the single-line json files inside a bag (lines)"
   ]
  },
  {
   "cell_type": "code",
   "execution_count": 8,
   "id": "194d364b",
   "metadata": {},
   "outputs": [],
   "source": [
    "filename = '/mnt/nfs_share/test/new/*.json'\n",
    "bag = db.read_text(filename)\n",
    "js = bag.map(json.loads).repartition(3)\n",
    "\n",
    "#json.loads method converts a valid JSON string into a Python\n",
    "#Dictionary\n",
    "                        "
   ]
  },
  {
   "cell_type": "code",
   "execution_count": 9,
   "id": "a6f7a60b",
   "metadata": {
    "scrolled": false
   },
   "outputs": [],
   "source": [
    "#js.take(1)"
   ]
  },
  {
   "cell_type": "markdown",
   "id": "7135954f",
   "metadata": {},
   "source": [
    "* ### But we need only the body text part"
   ]
  },
  {
   "cell_type": "code",
   "execution_count": 26,
   "id": "923cfae7",
   "metadata": {},
   "outputs": [
    {
     "data": {
      "text/plain": [
       "([{'text': 'SARS-CoV-2 pneumonia manifests as acute respiratory failure, which most often requires oxygen supplementation. In severely affected patients, the need for oxygen is sometimes so great that it can lead to invasive mechanical ventilation, a procedure that is associated with a high mortality rate. [1] At the beginning of the pandemic, the indications for intubation of patients with COVID-19 were broad. [1] However, as more experience was gained, practitioners began to use high-flow nasal oxygen therapy as an alternative to too early intubation. This method provides humidified and heated oxygen with a FiO2 of up to 100% and a flow rate of up to 80L/min. This would decrease the work of breathing, decrease dead space, improve mucociliary clearance and give a PEEP effect of 2 to 7 mmHg. [2] This technique of high flow nasal oxygen therapy was at the beginning of the pandemic limited to a flow of 30L/min [3] because the learned societies feared a high contamination of the nursing staff through the aerosol droplets. Today, this hypothetical risk is questioned, and this means of oxygen supplementation has become widespread in intensive care units, as it would reduce the rate of mechanical ventilation in patients with hypoxemic respiratory failure. [4] This work is a retrospective observational study that aims to evaluate mortality in patients on high-flow nasal oxygen therapy and the possible risk of resorting to invasive mechanical ventilation in these patients.',\n",
       "   'cite_spans': [{'start': 296,\n",
       "     'end': 299,\n",
       "     'text': '[1]',\n",
       "     'ref_id': 'BIBREF0'},\n",
       "    {'start': 403, 'end': 406, 'text': '[1]', 'ref_id': 'BIBREF0'},\n",
       "    {'start': 791, 'end': 794, 'text': '[2]', 'ref_id': 'BIBREF1'},\n",
       "    {'start': 910, 'end': 913, 'text': '[3]', 'ref_id': 'BIBREF2'},\n",
       "    {'start': 1258, 'end': 1261, 'text': '[4]', 'ref_id': 'BIBREF3'}],\n",
       "   'ref_spans': [],\n",
       "   'section': '1-Introduction :'},\n",
       "  {'text': 'This is a monocentric retrospective observational study conducted in the Intensive Care Unit of the Mohammed VI Public University Hospital of Oujda.',\n",
       "   'cite_spans': [],\n",
       "   'ref_spans': [],\n",
       "   'section': '2-Materials and Methods :'},\n",
       "  {'text': 'It includes all patients (600 patients) hospitalized in intensive care infected with COVID-19 from March 1st, 2020, to December 31st 2021.',\n",
       "   'cite_spans': [],\n",
       "   'ref_spans': [],\n",
       "   'section': '2-Materials and Methods :'},\n",
       "  {'text': \"These 600 patients were divided into 2 groups: group A which includes the 162 patients who were put on high flow nasal oxygen therapy and group B including the remaining 103 patients who received standard oxygen therapy (SO). Epidemiological, clinical, paraclinical, therapeutic and evolutionary data were collected thanks to an exploitation form including the different variables collected from the patients' medical files. The data were then computerized and analyzed using SPSS software.\",\n",
       "   'cite_spans': [],\n",
       "   'ref_spans': [],\n",
       "   'section': '2-Materials and Methods :'},\n",
       "  {'text': 'Access to patient data was authorized by the Mohammed VI University Hospital, given the retrospective design of this study, the requirement for patient consent was waived. Data anonymity was respected in accordance with national and international guidelines. The aim of our work is to describe the use of high flow oxygen therapy in the initial management of patients admitted to the intensive care unit on admission, to study their mortality and the possible use of invasive mechanical ventilation in these patients.',\n",
       "   'cite_spans': [],\n",
       "   'ref_spans': [],\n",
       "   'section': '2-Materials and Methods :'},\n",
       "  {'text': 'This case series has been reported in line with the PROCESS Guideline [5] .',\n",
       "   'cite_spans': [{'start': 70,\n",
       "     'end': 73,\n",
       "     'text': '[5]',\n",
       "     'ref_id': 'BIBREF5'}],\n",
       "   'ref_spans': [],\n",
       "   'section': '2-Materials and Methods :'},\n",
       "  {'text': 'Research registry 6573.',\n",
       "   'cite_spans': [],\n",
       "   'ref_spans': [],\n",
       "   'section': '2-Materials and Methods :'},\n",
       "  {'text': 'Between March 1 and December 31, 600 patients were admitted to the ICU for management of acute respiratory failure due to COVID-19 pneumonia. The degree of parenchymal involvement was in 4 patients (5.8%) 10-25%, in 9 patients (13.0%) 25-50%, in 26 patients (37.7%) 50-75% and in 32 patients (43.5%) it was >75%.',\n",
       "   'cite_spans': [],\n",
       "   'ref_spans': [],\n",
       "   'section': '3-Results :'},\n",
       "  {'text': 'The total number of patients who received NIV was 71 (26.8%), 33 (46.5%) required mechanical ventilation. The evolution of these intubated patients was marked by death in 27 cases (81.8%). ',\n",
       "   'cite_spans': [],\n",
       "   'ref_spans': [],\n",
       "   'section': '3-Results :'},\n",
       "  {'text': 'This retrospective study of 233 cases shows, in a population of severe COVID-19 patients with acute respiratory distress syndrome, that an initial oxygenation strategy including the use of high-flow nasal oxygen therapy is associated with a lower mortality rate In a multicenter, randomized, open-label trial of COVIDS patients hospitalized in an intensive care unit (ICU), the rate of intubation was 38% in the high oxygen flow group (80 or 49.7% in our study), compared with 50% in the non-invasive ventilation group (33 or 46.5% in our study). The use of mechanical ventilation was therefore not significant for our two studies (p=0.18 for this trial, and p=0.08 for our study). [6] In contrast, in a recent large French retrospective observational study, 74% of patients receiving standard oxygen therapy were eventually intubated, compared with 51% in the HFNO group. The use of mechanical ventilation was therefore significant in their study (p=0.007). [7] Concerning mortality, it was not significant in their study (12% in the HFNO group vs 16% in the OS group, p=.017), whereas it was significant in our study 98.6% vs 100% (p<. personnel. This is psychologically very important for everyone involved.',\n",
       "   'cite_spans': [{'start': 682,\n",
       "     'end': 685,\n",
       "     'text': '[6]',\n",
       "     'ref_id': 'BIBREF6'},\n",
       "    {'start': 959, 'end': 962, 'text': '[7]', 'ref_id': 'BIBREF8'}],\n",
       "   'ref_spans': [],\n",
       "   'section': '4-Discussion'},\n",
       "  {'text': 'Our study has several limitations. First, the analysis of ventilator-free days must be viewed with caution. Indeed, because of an anomalous distribution, the ventilator-free days were not adjusted for potential confounders. Second, this is not a randomized controlled trial.',\n",
       "   'cite_spans': [],\n",
       "   'ref_spans': [],\n",
       "   'section': '4-Discussion'},\n",
       "  {'text': 'And some data were unavailable and missing during chart collection because this study was retrospective. Therefore, it is important to conduct a more complete and thorough investigation in the future in a prospective sense.',\n",
       "   'cite_spans': [],\n",
       "   'ref_spans': [],\n",
       "   'section': '4-Discussion'},\n",
       "  {'text': 'In patients with acute respiratory failure caused by COVID19 , high flow oxygen is a simple ventilatory support to use, better tolerated and improves survival rate compared to non-invasive ventilation, although no difference was observed in the intubation rate',\n",
       "   'cite_spans': [],\n",
       "   'ref_spans': [],\n",
       "   'section': '5-Conclusion :'},\n",
       "  {'text': 'This is a retrospective and comparative case series was approved by the ethics committee for biomedical research of Oujda (ECBRO) of the faculty of medicine and pharmacy of Oujda. Data were anonymously registered in our database. Access to data was approved by the head of the department.',\n",
       "   'cite_spans': [],\n",
       "   'ref_spans': [],\n",
       "   'section': 'Ethical approval'},\n",
       "  {'text': 'This research did not receive any specific grant from funding agencies in the public, commercial, or not-for-profit sectors.',\n",
       "   'cite_spans': [],\n",
       "   'ref_spans': [],\n",
       "   'section': 'Sources of funding'},\n",
       "  {'text': '-Patients with corona virus disease require oxygen therapy as the disease progresses. Several oxygenation options have been used -The objective of this paper is to evaluate the efficacy of high-flow nasal oxygen HFNO versus noninvasive ventilation in COVID-19.',\n",
       "   'cite_spans': [],\n",
       "   'ref_spans': [],\n",
       "   'section': 'Sources of funding'},\n",
       "  {'text': '-A significant reduction in mortality was noted in the group of patients treated with high flow oxygen -The difference in intubation outcome between the two groups was not significant J o u r n a l P r e -p r o o f',\n",
       "   'cite_spans': [],\n",
       "   'ref_spans': [],\n",
       "   'section': 'Sources of funding'}],)"
      ]
     },
     "execution_count": 26,
     "metadata": {},
     "output_type": "execute_result"
    }
   ],
   "source": [
    "js.pluck(\"body_text\").take(1)"
   ]
  },
  {
   "cell_type": "markdown",
   "id": "7ba4eb07",
   "metadata": {},
   "source": [
    "# 1.Word counter distributed algorithm:\n",
    "\n",
    "\n",
    "\n",
    "\n",
    "## Map phase\n",
    "\n",
    "* For each document Di, produce the set of intermediate pairs (w, cp(w)), one for each word w ∈ Di, where cp(w) is the number of occurrences of w in Di. E.g.: (′hello′,3)\n"
   ]
  },
  {
   "cell_type": "markdown",
   "id": "72023c40",
   "metadata": {},
   "source": [
    "### We collect the text part (\"body_text\") of papers and merge them togethere"
   ]
  },
  {
   "cell_type": "code",
   "execution_count": 17,
   "id": "bc4ae1ad",
   "metadata": {},
   "outputs": [
    {
     "data": {
      "text/plain": [
       "(\"SARS-CoV-2 pneumonia manifests as acute respiratory failure, which most often requires oxygen supplementation. In severely affected patients, the need for oxygen is sometimes so great that it can lead to invasive mechanical ventilation, a procedure that is associated with a high mortality rate. [1] At the beginning of the pandemic, the indications for intubation of patients with COVID-19 were broad. [1] However, as more experience was gained, practitioners began to use high-flow nasal oxygen therapy as an alternative to too early intubation. This method provides humidified and heated oxygen with a FiO2 of up to 100% and a flow rate of up to 80L/min. This would decrease the work of breathing, decrease dead space, improve mucociliary clearance and give a PEEP effect of 2 to 7 mmHg. [2] This technique of high flow nasal oxygen therapy was at the beginning of the pandemic limited to a flow of 30L/min [3] because the learned societies feared a high contamination of the nursing staff through the aerosol droplets. Today, this hypothetical risk is questioned, and this means of oxygen supplementation has become widespread in intensive care units, as it would reduce the rate of mechanical ventilation in patients with hypoxemic respiratory failure. [4] This work is a retrospective observational study that aims to evaluate mortality in patients on high-flow nasal oxygen therapy and the possible risk of resorting to invasive mechanical ventilation in these patients.This is a monocentric retrospective observational study conducted in the Intensive Care Unit of the Mohammed VI Public University Hospital of Oujda.It includes all patients (600 patients) hospitalized in intensive care infected with COVID-19 from March 1st, 2020, to December 31st 2021.These 600 patients were divided into 2 groups: group A which includes the 162 patients who were put on high flow nasal oxygen therapy and group B including the remaining 103 patients who received standard oxygen therapy (SO). Epidemiological, clinical, paraclinical, therapeutic and evolutionary data were collected thanks to an exploitation form including the different variables collected from the patients' medical files. The data were then computerized and analyzed using SPSS software.Access to patient data was authorized by the Mohammed VI University Hospital, given the retrospective design of this study, the requirement for patient consent was waived. Data anonymity was respected in accordance with national and international guidelines. The aim of our work is to describe the use of high flow oxygen therapy in the initial management of patients admitted to the intensive care unit on admission, to study their mortality and the possible use of invasive mechanical ventilation in these patients.This case series has been reported in line with the PROCESS Guideline [5] .Research registry 6573.Between March 1 and December 31, 600 patients were admitted to the ICU for management of acute respiratory failure due to COVID-19 pneumonia. The degree of parenchymal involvement was in 4 patients (5.8%) 10-25%, in 9 patients (13.0%) 25-50%, in 26 patients (37.7%) 50-75% and in 32 patients (43.5%) it was >75%.The total number of patients who received NIV was 71 (26.8%), 33 (46.5%) required mechanical ventilation. The evolution of these intubated patients was marked by death in 27 cases (81.8%). This retrospective study of 233 cases shows, in a population of severe COVID-19 patients with acute respiratory distress syndrome, that an initial oxygenation strategy including the use of high-flow nasal oxygen therapy is associated with a lower mortality rate In a multicenter, randomized, open-label trial of COVIDS patients hospitalized in an intensive care unit (ICU), the rate of intubation was 38% in the high oxygen flow group (80 or 49.7% in our study), compared with 50% in the non-invasive ventilation group (33 or 46.5% in our study). The use of mechanical ventilation was therefore not significant for our two studies (p=0.18 for this trial, and p=0.08 for our study). [6] In contrast, in a recent large French retrospective observational study, 74% of patients receiving standard oxygen therapy were eventually intubated, compared with 51% in the HFNO group. The use of mechanical ventilation was therefore significant in their study (p=0.007). [7] Concerning mortality, it was not significant in their study (12% in the HFNO group vs 16% in the OS group, p=.017), whereas it was significant in our study 98.6% vs 100% (p<. personnel. This is psychologically very important for everyone involved.Our study has several limitations. First, the analysis of ventilator-free days must be viewed with caution. Indeed, because of an anomalous distribution, the ventilator-free days were not adjusted for potential confounders. Second, this is not a randomized controlled trial.And some data were unavailable and missing during chart collection because this study was retrospective. Therefore, it is important to conduct a more complete and thorough investigation in the future in a prospective sense.In patients with acute respiratory failure caused by COVID19 , high flow oxygen is a simple ventilatory support to use, better tolerated and improves survival rate compared to non-invasive ventilation, although no difference was observed in the intubation rateThis is a retrospective and comparative case series was approved by the ethics committee for biomedical research of Oujda (ECBRO) of the faculty of medicine and pharmacy of Oujda. Data were anonymously registered in our database. Access to data was approved by the head of the department.This research did not receive any specific grant from funding agencies in the public, commercial, or not-for-profit sectors.-Patients with corona virus disease require oxygen therapy as the disease progresses. Several oxygenation options have been used -The objective of this paper is to evaluate the efficacy of high-flow nasal oxygen HFNO versus noninvasive ventilation in COVID-19.-A significant reduction in mortality was noted in the group of patients treated with high flow oxygen -The difference in intubation outcome between the two groups was not significant J o u r n a l P r e -p r o o f\",)"
      ]
     },
     "execution_count": 17,
     "metadata": {},
     "output_type": "execute_result"
    }
   ],
   "source": [
    "def merge_json(data):\n",
    "    all_text=''\n",
    "    for t in data:\n",
    "        all_text+=t['text'] # only text part of budy text\n",
    "    return all_text\n",
    "\n",
    "texts = js.pluck(\"body_text\").map(merge_json) # the bag with only text part of data\n",
    "texts.take(1)\n"
   ]
  },
  {
   "cell_type": "markdown",
   "id": "d5f6d7d7",
   "metadata": {},
   "source": [
    "* We split the words\n",
    "* remove the stop words which does not add any meaning ( i.e have,has,is,or,and )\n"
   ]
  },
  {
   "cell_type": "code",
   "execution_count": 18,
   "id": "dee9b2df",
   "metadata": {},
   "outputs": [
    {
     "data": {
      "text/plain": [
       "['pneumonia',\n",
       " 'manifests',\n",
       " 'acute',\n",
       " 'respiratory',\n",
       " 'failure',\n",
       " 'often',\n",
       " 'requires',\n",
       " 'oxygen',\n",
       " 'supplementation',\n",
       " 'severely',\n",
       " 'affected',\n",
       " 'patients',\n",
       " 'need',\n",
       " 'oxygen',\n",
       " 'sometimes']"
      ]
     },
     "execution_count": 18,
     "metadata": {},
     "output_type": "execute_result"
    }
   ],
   "source": [
    "#s=time.time()\n",
    "def cleaner(text):\n",
    "\n",
    "    stop_words = stopwords.words('english')\n",
    "    text_tokens=word_tokenize(text)\n",
    "\n",
    "    tokens_without_sw=[word.lower() for word in text_tokens if not word.lower() in stop_words and word.isalpha()]\n",
    "    return tokens_without_sw\n",
    "\n",
    "text_clean = texts.map(cleaner)\n",
    "text_clean.take(1)[0][:15]\n",
    "#e=time.time()\n",
    "#e-s\n",
    "#3 sex"
   ]
  },
  {
   "cell_type": "markdown",
   "id": "fa99726c",
   "metadata": {},
   "source": [
    "* ## Count each unique word and its frequency"
   ]
  },
  {
   "cell_type": "code",
   "execution_count": 32,
   "id": "24d4f134",
   "metadata": {},
   "outputs": [
    {
     "data": {
      "text/plain": [
       "([{'word': 'pneumonia', 'frequency': 2},\n",
       "  {'word': 'manifests', 'frequency': 1},\n",
       "  {'word': 'acute', 'frequency': 4},\n",
       "  {'word': 'respiratory', 'frequency': 5},\n",
       "  {'word': 'failure', 'frequency': 4},\n",
       "  {'word': 'often', 'frequency': 1},\n",
       "  {'word': 'requires', 'frequency': 1},\n",
       "  {'word': 'oxygen', 'frequency': 17},\n",
       "  {'word': 'supplementation', 'frequency': 2},\n",
       "  {'word': 'severely', 'frequency': 1},\n",
       "  {'word': 'affected', 'frequency': 1},\n",
       "  {'word': 'patients', 'frequency': 23},\n",
       "  {'word': 'need', 'frequency': 1},\n",
       "  {'word': 'sometimes', 'frequency': 1},\n",
       "  {'word': 'great', 'frequency': 1},\n",
       "  {'word': 'lead', 'frequency': 1},\n",
       "  {'word': 'invasive', 'frequency': 3},\n",
       "  {'word': 'mechanical', 'frequency': 7},\n",
       "  {'word': 'ventilation', 'frequency': 10},\n",
       "  {'word': 'procedure', 'frequency': 1},\n",
       "  {'word': 'associated', 'frequency': 2},\n",
       "  {'word': 'high', 'frequency': 8},\n",
       "  {'word': 'mortality', 'frequency': 6},\n",
       "  {'word': 'rate', 'frequency': 6},\n",
       "  {'word': 'beginning', 'frequency': 2},\n",
       "  {'word': 'pandemic', 'frequency': 2},\n",
       "  {'word': 'indications', 'frequency': 1},\n",
       "  {'word': 'intubation', 'frequency': 5},\n",
       "  {'word': 'broad', 'frequency': 1},\n",
       "  {'word': 'however', 'frequency': 1},\n",
       "  {'word': 'experience', 'frequency': 1},\n",
       "  {'word': 'gained', 'frequency': 1},\n",
       "  {'word': 'practitioners', 'frequency': 1},\n",
       "  {'word': 'began', 'frequency': 1},\n",
       "  {'word': 'use', 'frequency': 7},\n",
       "  {'word': 'nasal', 'frequency': 6},\n",
       "  {'word': 'therapy', 'frequency': 9},\n",
       "  {'word': 'alternative', 'frequency': 1},\n",
       "  {'word': 'early', 'frequency': 1},\n",
       "  {'word': 'method', 'frequency': 1},\n",
       "  {'word': 'provides', 'frequency': 1},\n",
       "  {'word': 'humidified', 'frequency': 1},\n",
       "  {'word': 'heated', 'frequency': 1},\n",
       "  {'word': 'flow', 'frequency': 8},\n",
       "  {'word': 'would', 'frequency': 2},\n",
       "  {'word': 'decrease', 'frequency': 2},\n",
       "  {'word': 'work', 'frequency': 3},\n",
       "  {'word': 'breathing', 'frequency': 1},\n",
       "  {'word': 'dead', 'frequency': 1},\n",
       "  {'word': 'space', 'frequency': 1},\n",
       "  {'word': 'improve', 'frequency': 1},\n",
       "  {'word': 'mucociliary', 'frequency': 1},\n",
       "  {'word': 'clearance', 'frequency': 1},\n",
       "  {'word': 'give', 'frequency': 1},\n",
       "  {'word': 'peep', 'frequency': 1},\n",
       "  {'word': 'effect', 'frequency': 1},\n",
       "  {'word': 'mmhg', 'frequency': 1},\n",
       "  {'word': 'technique', 'frequency': 1},\n",
       "  {'word': 'limited', 'frequency': 1},\n",
       "  {'word': 'learned', 'frequency': 1},\n",
       "  {'word': 'societies', 'frequency': 1},\n",
       "  {'word': 'feared', 'frequency': 1},\n",
       "  {'word': 'contamination', 'frequency': 1},\n",
       "  {'word': 'nursing', 'frequency': 1},\n",
       "  {'word': 'staff', 'frequency': 1},\n",
       "  {'word': 'aerosol', 'frequency': 1},\n",
       "  {'word': 'droplets', 'frequency': 1},\n",
       "  {'word': 'today', 'frequency': 1},\n",
       "  {'word': 'hypothetical', 'frequency': 1},\n",
       "  {'word': 'risk', 'frequency': 2},\n",
       "  {'word': 'questioned', 'frequency': 1},\n",
       "  {'word': 'means', 'frequency': 1},\n",
       "  {'word': 'become', 'frequency': 1},\n",
       "  {'word': 'widespread', 'frequency': 1},\n",
       "  {'word': 'intensive', 'frequency': 5},\n",
       "  {'word': 'care', 'frequency': 5},\n",
       "  {'word': 'units', 'frequency': 1},\n",
       "  {'word': 'reduce', 'frequency': 1},\n",
       "  {'word': 'hypoxemic', 'frequency': 1},\n",
       "  {'word': 'retrospective', 'frequency': 7},\n",
       "  {'word': 'observational', 'frequency': 3},\n",
       "  {'word': 'study', 'frequency': 14},\n",
       "  {'word': 'aims', 'frequency': 1},\n",
       "  {'word': 'evaluate', 'frequency': 2},\n",
       "  {'word': 'possible', 'frequency': 2},\n",
       "  {'word': 'resorting', 'frequency': 1},\n",
       "  {'word': 'monocentric', 'frequency': 1},\n",
       "  {'word': 'conducted', 'frequency': 1},\n",
       "  {'word': 'unit', 'frequency': 3},\n",
       "  {'word': 'mohammed', 'frequency': 2},\n",
       "  {'word': 'vi', 'frequency': 2},\n",
       "  {'word': 'public', 'frequency': 2},\n",
       "  {'word': 'university', 'frequency': 2},\n",
       "  {'word': 'hospital', 'frequency': 2},\n",
       "  {'word': 'includes', 'frequency': 2},\n",
       "  {'word': 'hospitalized', 'frequency': 2},\n",
       "  {'word': 'infected', 'frequency': 1},\n",
       "  {'word': 'march', 'frequency': 2},\n",
       "  {'word': 'december', 'frequency': 2},\n",
       "  {'word': 'divided', 'frequency': 1},\n",
       "  {'word': 'groups', 'frequency': 2},\n",
       "  {'word': 'group', 'frequency': 8},\n",
       "  {'word': 'put', 'frequency': 1},\n",
       "  {'word': 'b', 'frequency': 1},\n",
       "  {'word': 'including', 'frequency': 3},\n",
       "  {'word': 'remaining', 'frequency': 1},\n",
       "  {'word': 'received', 'frequency': 2},\n",
       "  {'word': 'standard', 'frequency': 2},\n",
       "  {'word': 'epidemiological', 'frequency': 1},\n",
       "  {'word': 'clinical', 'frequency': 1},\n",
       "  {'word': 'paraclinical', 'frequency': 1},\n",
       "  {'word': 'therapeutic', 'frequency': 1},\n",
       "  {'word': 'evolutionary', 'frequency': 1},\n",
       "  {'word': 'data', 'frequency': 7},\n",
       "  {'word': 'collected', 'frequency': 2},\n",
       "  {'word': 'thanks', 'frequency': 1},\n",
       "  {'word': 'exploitation', 'frequency': 1},\n",
       "  {'word': 'form', 'frequency': 1},\n",
       "  {'word': 'different', 'frequency': 1},\n",
       "  {'word': 'variables', 'frequency': 1},\n",
       "  {'word': 'medical', 'frequency': 1},\n",
       "  {'word': 'files', 'frequency': 1},\n",
       "  {'word': 'computerized', 'frequency': 1},\n",
       "  {'word': 'analyzed', 'frequency': 1},\n",
       "  {'word': 'using', 'frequency': 1},\n",
       "  {'word': 'spss', 'frequency': 1},\n",
       "  {'word': 'patient', 'frequency': 2},\n",
       "  {'word': 'authorized', 'frequency': 1},\n",
       "  {'word': 'given', 'frequency': 1},\n",
       "  {'word': 'design', 'frequency': 1},\n",
       "  {'word': 'requirement', 'frequency': 1},\n",
       "  {'word': 'consent', 'frequency': 1},\n",
       "  {'word': 'waived', 'frequency': 1},\n",
       "  {'word': 'anonymity', 'frequency': 1},\n",
       "  {'word': 'respected', 'frequency': 1},\n",
       "  {'word': 'accordance', 'frequency': 1},\n",
       "  {'word': 'national', 'frequency': 1},\n",
       "  {'word': 'international', 'frequency': 1},\n",
       "  {'word': 'guidelines', 'frequency': 1},\n",
       "  {'word': 'aim', 'frequency': 1},\n",
       "  {'word': 'describe', 'frequency': 1},\n",
       "  {'word': 'initial', 'frequency': 2},\n",
       "  {'word': 'management', 'frequency': 2},\n",
       "  {'word': 'admitted', 'frequency': 2},\n",
       "  {'word': 'admission', 'frequency': 1},\n",
       "  {'word': 'case', 'frequency': 2},\n",
       "  {'word': 'series', 'frequency': 2},\n",
       "  {'word': 'reported', 'frequency': 1},\n",
       "  {'word': 'line', 'frequency': 1},\n",
       "  {'word': 'process', 'frequency': 1},\n",
       "  {'word': 'guideline', 'frequency': 1},\n",
       "  {'word': 'registry', 'frequency': 1},\n",
       "  {'word': 'icu', 'frequency': 2},\n",
       "  {'word': 'due', 'frequency': 1},\n",
       "  {'word': 'degree', 'frequency': 1},\n",
       "  {'word': 'parenchymal', 'frequency': 1},\n",
       "  {'word': 'involvement', 'frequency': 1},\n",
       "  {'word': 'total', 'frequency': 1},\n",
       "  {'word': 'number', 'frequency': 1},\n",
       "  {'word': 'niv', 'frequency': 1},\n",
       "  {'word': 'required', 'frequency': 1},\n",
       "  {'word': 'evolution', 'frequency': 1},\n",
       "  {'word': 'intubated', 'frequency': 2},\n",
       "  {'word': 'marked', 'frequency': 1},\n",
       "  {'word': 'death', 'frequency': 1},\n",
       "  {'word': 'cases', 'frequency': 2},\n",
       "  {'word': 'shows', 'frequency': 1},\n",
       "  {'word': 'population', 'frequency': 1},\n",
       "  {'word': 'severe', 'frequency': 1},\n",
       "  {'word': 'distress', 'frequency': 1},\n",
       "  {'word': 'syndrome', 'frequency': 1},\n",
       "  {'word': 'oxygenation', 'frequency': 2},\n",
       "  {'word': 'strategy', 'frequency': 1},\n",
       "  {'word': 'lower', 'frequency': 1},\n",
       "  {'word': 'multicenter', 'frequency': 1},\n",
       "  {'word': 'randomized', 'frequency': 2},\n",
       "  {'word': 'trial', 'frequency': 2},\n",
       "  {'word': 'covids', 'frequency': 1},\n",
       "  {'word': 'compared', 'frequency': 3},\n",
       "  {'word': 'therefore', 'frequency': 3},\n",
       "  {'word': 'significant', 'frequency': 6},\n",
       "  {'word': 'two', 'frequency': 2},\n",
       "  {'word': 'studies', 'frequency': 1},\n",
       "  {'word': 'contrast', 'frequency': 1},\n",
       "  {'word': 'recent', 'frequency': 1},\n",
       "  {'word': 'large', 'frequency': 1},\n",
       "  {'word': 'french', 'frequency': 1},\n",
       "  {'word': 'receiving', 'frequency': 1},\n",
       "  {'word': 'eventually', 'frequency': 1},\n",
       "  {'word': 'hfno', 'frequency': 3},\n",
       "  {'word': 'concerning', 'frequency': 1},\n",
       "  {'word': 'vs', 'frequency': 2},\n",
       "  {'word': 'os', 'frequency': 1},\n",
       "  {'word': 'whereas', 'frequency': 1},\n",
       "  {'word': 'p', 'frequency': 2},\n",
       "  {'word': 'personnel', 'frequency': 1},\n",
       "  {'word': 'psychologically', 'frequency': 1},\n",
       "  {'word': 'important', 'frequency': 2},\n",
       "  {'word': 'everyone', 'frequency': 1},\n",
       "  {'word': 'several', 'frequency': 2},\n",
       "  {'word': 'limitations', 'frequency': 1},\n",
       "  {'word': 'first', 'frequency': 1},\n",
       "  {'word': 'analysis', 'frequency': 1},\n",
       "  {'word': 'days', 'frequency': 2},\n",
       "  {'word': 'must', 'frequency': 1},\n",
       "  {'word': 'viewed', 'frequency': 1},\n",
       "  {'word': 'caution', 'frequency': 1},\n",
       "  {'word': 'indeed', 'frequency': 1},\n",
       "  {'word': 'anomalous', 'frequency': 1},\n",
       "  {'word': 'distribution', 'frequency': 1},\n",
       "  {'word': 'adjusted', 'frequency': 1},\n",
       "  {'word': 'potential', 'frequency': 1},\n",
       "  {'word': 'confounders', 'frequency': 1},\n",
       "  {'word': 'second', 'frequency': 1},\n",
       "  {'word': 'controlled', 'frequency': 1},\n",
       "  {'word': 'unavailable', 'frequency': 1},\n",
       "  {'word': 'missing', 'frequency': 1},\n",
       "  {'word': 'chart', 'frequency': 1},\n",
       "  {'word': 'collection', 'frequency': 1},\n",
       "  {'word': 'conduct', 'frequency': 1},\n",
       "  {'word': 'complete', 'frequency': 1},\n",
       "  {'word': 'thorough', 'frequency': 1},\n",
       "  {'word': 'investigation', 'frequency': 1},\n",
       "  {'word': 'future', 'frequency': 1},\n",
       "  {'word': 'prospective', 'frequency': 1},\n",
       "  {'word': 'caused', 'frequency': 1},\n",
       "  {'word': 'simple', 'frequency': 1},\n",
       "  {'word': 'ventilatory', 'frequency': 1},\n",
       "  {'word': 'support', 'frequency': 1},\n",
       "  {'word': 'better', 'frequency': 1},\n",
       "  {'word': 'tolerated', 'frequency': 1},\n",
       "  {'word': 'improves', 'frequency': 1},\n",
       "  {'word': 'survival', 'frequency': 1},\n",
       "  {'word': 'although', 'frequency': 1},\n",
       "  {'word': 'difference', 'frequency': 2},\n",
       "  {'word': 'observed', 'frequency': 1},\n",
       "  {'word': 'ratethis', 'frequency': 1},\n",
       "  {'word': 'comparative', 'frequency': 1},\n",
       "  {'word': 'approved', 'frequency': 2},\n",
       "  {'word': 'ethics', 'frequency': 1},\n",
       "  {'word': 'committee', 'frequency': 1},\n",
       "  {'word': 'biomedical', 'frequency': 1},\n",
       "  {'word': 'research', 'frequency': 2},\n",
       "  {'word': 'oujda', 'frequency': 2},\n",
       "  {'word': 'ecbro', 'frequency': 1},\n",
       "  {'word': 'faculty', 'frequency': 1},\n",
       "  {'word': 'medicine', 'frequency': 1},\n",
       "  {'word': 'pharmacy', 'frequency': 1},\n",
       "  {'word': 'anonymously', 'frequency': 1},\n",
       "  {'word': 'registered', 'frequency': 1},\n",
       "  {'word': 'database', 'frequency': 1},\n",
       "  {'word': 'access', 'frequency': 1},\n",
       "  {'word': 'head', 'frequency': 1},\n",
       "  {'word': 'receive', 'frequency': 1},\n",
       "  {'word': 'specific', 'frequency': 1},\n",
       "  {'word': 'grant', 'frequency': 1},\n",
       "  {'word': 'funding', 'frequency': 1},\n",
       "  {'word': 'agencies', 'frequency': 1},\n",
       "  {'word': 'commercial', 'frequency': 1},\n",
       "  {'word': 'corona', 'frequency': 1},\n",
       "  {'word': 'virus', 'frequency': 1},\n",
       "  {'word': 'disease', 'frequency': 2},\n",
       "  {'word': 'require', 'frequency': 1},\n",
       "  {'word': 'progresses', 'frequency': 1},\n",
       "  {'word': 'options', 'frequency': 1},\n",
       "  {'word': 'used', 'frequency': 1},\n",
       "  {'word': 'objective', 'frequency': 1},\n",
       "  {'word': 'paper', 'frequency': 1},\n",
       "  {'word': 'efficacy', 'frequency': 1},\n",
       "  {'word': 'versus', 'frequency': 1},\n",
       "  {'word': 'noninvasive', 'frequency': 1},\n",
       "  {'word': 'reduction', 'frequency': 1},\n",
       "  {'word': 'noted', 'frequency': 1},\n",
       "  {'word': 'treated', 'frequency': 1},\n",
       "  {'word': 'outcome', 'frequency': 1},\n",
       "  {'word': 'j', 'frequency': 1},\n",
       "  {'word': 'u', 'frequency': 1},\n",
       "  {'word': 'r', 'frequency': 3},\n",
       "  {'word': 'n', 'frequency': 1},\n",
       "  {'word': 'l', 'frequency': 1},\n",
       "  {'word': 'e', 'frequency': 1},\n",
       "  {'word': 'f', 'frequency': 1}],)"
      ]
     },
     "execution_count": 32,
     "metadata": {},
     "output_type": "execute_result"
    }
   ],
   "source": [
    "# convert list to list of directories\n",
    "# where the unique words and their frequency is stored\n",
    "\n",
    "def count(text):\n",
    "    counts = dict(zip(Counter(text).keys(), Counter(text).values()))\n",
    "    words_counted = [{\"word\":x , \"frequency\": y} for x,y in counts.items()]\n",
    "    return words_counted\n",
    "\n",
    "words = text_clean.map(count)\n",
    "words.take(1)"
   ]
  },
  {
   "cell_type": "markdown",
   "id": "eb5c7504",
   "metadata": {},
   "source": [
    "## Reduce phase\n",
    "\n",
    "* For each word w, gather all the previous pairs (w, cp(w)) and return the final pair (w,c(w)) where c(w) is the number of occurrences of w for all the Documents.\n"
   ]
  },
  {
   "cell_type": "code",
   "execution_count": 34,
   "id": "e63b6220",
   "metadata": {},
   "outputs": [],
   "source": [
    "def sumation(total, x):\n",
    "    return total+x['frequency']\n",
    "\n",
    "# using flatten to un-fold the dictionary into a list-like object\n",
    "# using foldby to sum all unique words \n",
    "\n",
    "All_counts = words.flatten().foldby('word', binop=sumation,initial=0,combine=add,combine_initial=0).compute()"
   ]
  },
  {
   "cell_type": "code",
   "execution_count": 73,
   "id": "8e41e89d",
   "metadata": {},
   "outputs": [
    {
     "data": {
      "text/plain": [
       "[('patients', 10046),\n",
       " ('et', 9532),\n",
       " ('study', 9386),\n",
       " ('data', 8821),\n",
       " ('also', 8188),\n",
       " ('may', 6599),\n",
       " ('using', 6307),\n",
       " ('used', 6175),\n",
       " ('health', 6062),\n",
       " ('cells', 5633)]"
      ]
     },
     "execution_count": 73,
     "metadata": {},
     "output_type": "execute_result"
    }
   ],
   "source": [
    "# sorting\n",
    "All_counts_sorted = sorted(All_counts, key=itemgetter(1), reverse=True)\n",
    "All_counts_sorted[:10]"
   ]
  },
  {
   "cell_type": "code",
   "execution_count": 82,
   "id": "69375991",
   "metadata": {},
   "outputs": [],
   "source": [
    "#All_counts_sorted=All_counts_sorted.pop(1)\n",
    "#del All_counts_sorted[7]\n",
    "#All_counts_sorted"
   ]
  },
  {
   "cell_type": "markdown",
   "id": "3b4bee42",
   "metadata": {},
   "source": [
    "# Plot for most repeated words in papers"
   ]
  },
  {
   "cell_type": "code",
   "execution_count": 84,
   "id": "9b8bbf11",
   "metadata": {},
   "outputs": [],
   "source": [
    "freq = [All_counts_sorted[i][1] for i in range(0,len(All_counts_sorted))]\n",
    "word = [All_counts_sorted[i][0] for i in range(0,len(All_counts_sorted))]"
   ]
  },
  {
   "cell_type": "code",
   "execution_count": 85,
   "id": "c16f6ee9",
   "metadata": {},
   "outputs": [
    {
     "data": {
      "image/png": "[encoded data removed]",
      "text/plain": [
       "<Figure size 1152x648 with 1 Axes>"
      ]
     },
     "metadata": {
      "needs_background": "light"
     },
     "output_type": "display_data"
    }
   ],
   "source": [
    "fig, ax = plt.subplots(figsize =(16, 9))\n",
    "ax.barh(word[:10], freq[:10])\n",
    "for s in ['top', 'bottom', 'left', 'right']:\n",
    "    ax.spines[s].set_visible(False)\n",
    "ax.xaxis.set_ticks_position('none')\n",
    "ax.yaxis.set_ticks_position('none')\n",
    "ax.xaxis.set_tick_params(pad = 5)\n",
    "ax.yaxis.set_tick_params(pad = 10)\n",
    "ax.grid(color ='grey',\n",
    "        linestyle ='-.', linewidth = 0.5,\n",
    "        alpha = 0.2)\n",
    "ax.invert_yaxis()\n",
    "for i in ax.patches:\n",
    "    plt.text(i.get_width()+0.2, i.get_y()+0.5,\n",
    "            str(round((i.get_width()), 2)),\n",
    "            fontsize = 10, fontweight ='bold',\n",
    "            color ='gray')\n",
    "ax.set_title('Number of repatiotion of top 10 words',\n",
    "            loc ='left', )\n",
    "fig.text(0.9, 0.15, 'Analysis of Covid-19 papers', fontsize = 12,\n",
    "        color ='grey', ha ='right', va ='bottom',\n",
    "        alpha = 0.7)\n",
    "plt.show()"
   ]
  },
  {
   "cell_type": "markdown",
   "id": "ea44db0e",
   "metadata": {},
   "source": [
    "## 2.Which are the worst and best-represented countries in the research?\n",
    "In this part, you have to take the documents and convert them into a usable DataFrame data structure to figure out the countries that are most and less active in the research. To do this you can use the country of the authors. Do the same for the universities (affiliations).\n",
    "Even in this case do multiple runs by changing the number of partitions and workers and then describe the behavior of the timings.\n"
   ]
  },
  {
   "cell_type": "code",
   "execution_count": 86,
   "id": "0ca7db72",
   "metadata": {},
   "outputs": [],
   "source": [
    "#let's create the function to extract the needed features\n",
    "def feat(record):\n",
    "    name=surname=university=country=''\n",
    "    \n",
    "    name = record['first']\n",
    "    surname = record['last']\n",
    "    \n",
    "    if record['affiliation'] == {}:\n",
    "        university = 'Not given'\n",
    "        country = 'Not given'\n",
    "    \n",
    "    else: #affiliation not void\n",
    "        if 'institution' in record['affiliation'].keys() and record['affiliation']['institution'] != '': university = record['affiliation']['institution']\n",
    "        else: university = 'Not given'\n",
    "        \n",
    "    if 'location' in record['affiliation'].keys() and 'country' in record['affiliation']['location'].keys() and record['affiliation']['location']['country'] != '':\n",
    "        country = record['affiliation']['location']['country']\n",
    "    else: country = 'Not given'\n",
    "    \n",
    "    #country='gatto'\n",
    "    return {\n",
    "        'name':       name,\n",
    "        'surname':    surname, \n",
    "        'university': university,\n",
    "        'country':    country,\n",
    "    }\n",
    "        \n",
    "       "
   ]
  },
  {
   "cell_type": "code",
   "execution_count": 87,
   "id": "b0b99321",
   "metadata": {},
   "outputs": [
    {
     "data": {
      "text/html": [
       "<div>\n",
       "<style scoped>\n",
       "    .dataframe tbody tr th:only-of-type {\n",
       "        vertical-align: middle;\n",
       "    }\n",
       "\n",
       "    .dataframe tbody tr th {\n",
       "        vertical-align: top;\n",
       "    }\n",
       "\n",
       "    .dataframe thead th {\n",
       "        text-align: right;\n",
       "    }\n",
       "</style>\n",
       "<table border=\"1\" class=\"dataframe\">\n",
       "  <thead>\n",
       "    <tr style=\"text-align: right;\">\n",
       "      <th></th>\n",
       "      <th>name</th>\n",
       "      <th>surname</th>\n",
       "      <th>university</th>\n",
       "      <th>country</th>\n",
       "    </tr>\n",
       "  </thead>\n",
       "  <tbody>\n",
       "    <tr>\n",
       "      <th>0</th>\n",
       "      <td>Rajae</td>\n",
       "      <td>Alkouh</td>\n",
       "      <td>Not given</td>\n",
       "      <td>Not given</td>\n",
       "    </tr>\n",
       "    <tr>\n",
       "      <th>1</th>\n",
       "      <td>Abdelilah</td>\n",
       "      <td>Rhalete</td>\n",
       "      <td>VI University Hospital</td>\n",
       "      <td>Morocco</td>\n",
       "    </tr>\n",
       "    <tr>\n",
       "      <th>2</th>\n",
       "      <td>Merbouh</td>\n",
       "      <td>Manal</td>\n",
       "      <td>VI University Hospital</td>\n",
       "      <td>Morocco</td>\n",
       "    </tr>\n",
       "    <tr>\n",
       "      <th>3</th>\n",
       "      <td>Aidouni</td>\n",
       "      <td>Ghizlane</td>\n",
       "      <td>Not given</td>\n",
       "      <td>Not given</td>\n",
       "    </tr>\n",
       "    <tr>\n",
       "      <th>4</th>\n",
       "      <td>Berrichi</td>\n",
       "      <td>Samia</td>\n",
       "      <td>VI University Hospital</td>\n",
       "      <td>Morocco</td>\n",
       "    </tr>\n",
       "  </tbody>\n",
       "</table>\n",
       "</div>"
      ],
      "text/plain": [
       "        name   surname              university    country\n",
       "0      Rajae    Alkouh               Not given  Not given\n",
       "1  Abdelilah   Rhalete  VI University Hospital    Morocco\n",
       "2    Merbouh     Manal  VI University Hospital    Morocco\n",
       "3    Aidouni  Ghizlane               Not given  Not given\n",
       "4   Berrichi     Samia  VI University Hospital    Morocco"
      ]
     },
     "execution_count": 87,
     "metadata": {},
     "output_type": "execute_result"
    }
   ],
   "source": [
    "authors = js.pluck('metadata').pluck('authors').flatten()\n",
    "authors_DataFrame = authors.map(feat).to_dataframe()\n",
    "authors_DataFrame.head()"
   ]
  },
  {
   "cell_type": "code",
   "execution_count": 121,
   "id": "01bcf7d8",
   "metadata": {},
   "outputs": [
    {
     "data": {
      "text/plain": [
       "({'first': 'Rajae',\n",
       "  'middle': [],\n",
       "  'last': 'Alkouh',\n",
       "  'suffix': '',\n",
       "  'affiliation': {},\n",
       "  'email': 'alkouhrajae1993@gmail.com'},\n",
       " {'first': 'Abdelilah',\n",
       "  'middle': ['El'],\n",
       "  'last': 'Rhalete',\n",
       "  'suffix': '',\n",
       "  'affiliation': {'laboratory': '',\n",
       "   'institution': 'VI University Hospital',\n",
       "   'location': {'settlement': 'Oujda',\n",
       "    'region': 'Mohammed',\n",
       "    'country': 'Morocco'}},\n",
       "  'email': 'elrhaleteabdelilah@yahoo.fr'})"
      ]
     },
     "execution_count": 121,
     "metadata": {},
     "output_type": "execute_result"
    }
   ],
   "source": [
    "authors_DataFrame.university.value_counts().head(2) #from here it is possible to make an histogram\n",
    "authors.take(2)"
   ]
  },
  {
   "cell_type": "code",
   "execution_count": 140,
   "id": "99995bd0",
   "metadata": {},
   "outputs": [],
   "source": [
    "countries = authors_DataFrame.country.value_counts()"
   ]
  },
  {
   "cell_type": "code",
   "execution_count": 147,
   "id": "faf10287",
   "metadata": {},
   "outputs": [
    {
     "data": {
      "image/png": "[encoded data removed]",
      "text/plain": [
       "<Figure size 1152x648 with 1 Axes>"
      ]
     },
     "metadata": {
      "needs_background": "light"
     },
     "output_type": "display_data"
    }
   ],
   "source": [
    "n=10\n",
    "data = countries.nlargest(n+1).compute()\n",
    "data = data[data.axes[0]!='Not given']\n",
    "height = [data[i] for i in range(0,n)]\n",
    "bars = [data.axes[0][i] for i in range(0,n)]\n",
    "\n",
    "fig, ax = plt.subplots(figsize =(16, 9))\n",
    "ax.barh(bars[:10], height[:10])\n",
    "for s in ['top', 'bottom', 'left', 'right']:\n",
    "    ax.spines[s].set_visible(False)\n",
    "ax.xaxis.set_ticks_position('none')\n",
    "ax.yaxis.set_ticks_position('none')\n",
    "ax.xaxis.set_tick_params(pad = 5)\n",
    "ax.yaxis.set_tick_params(pad = 10)\n",
    "ax.grid(color ='grey',\n",
    "        linestyle ='-.', linewidth = 0.5,\n",
    "        alpha = 0.2)\n",
    "ax.invert_yaxis()\n",
    "for i in ax.patches:\n",
    "    plt.text(i.get_width()+0.2, i.get_y()+0.5,\n",
    "            str(round((i.get_width()), 2)),\n",
    "            fontsize = 10, fontweight ='bold',\n",
    "            color ='gray')\n",
    "ax.set_title('Number of repatiotion of top 10 countries',\n",
    "            loc ='left', )\n",
    "fig.text(0.9, 0.15, 'Analysis of Covid-19 papers', fontsize = 12,\n",
    "        color ='grey', ha ='right', va ='bottom',\n",
    "        alpha = 0.7)\n",
    "plt.show()"
   ]
  },
  {
   "cell_type": "code",
   "execution_count": 146,
   "id": "c34d50e3",
   "metadata": {},
   "outputs": [
    {
     "data": {
      "image/png": "[encoded data removed]",
      "text/plain": [
       "<Figure size 1152x648 with 1 Axes>"
      ]
     },
     "metadata": {
      "needs_background": "light"
     },
     "output_type": "display_data"
    }
   ],
   "source": [
    "univs = authors_DataFrame.university.value_counts()\n",
    "\n",
    "n=10\n",
    "data = univs.nlargest(n+1).compute()\n",
    "data = data[data.axes[0]!='Not given']\n",
    "height = [data[i] for i in range(0,n)]\n",
    "bars = [data.axes[0][i] for i in range(0,n)]\n",
    "\n",
    "fig, ax = plt.subplots(figsize =(16, 9))\n",
    "ax.barh(bars[:10], height[:10])\n",
    "for s in ['top', 'bottom', 'left', 'right']:\n",
    "    ax.spines[s].set_visible(False)\n",
    "ax.xaxis.set_ticks_position('none')\n",
    "ax.yaxis.set_ticks_position('none')\n",
    "ax.xaxis.set_tick_params(pad = 5)\n",
    "ax.yaxis.set_tick_params(pad = 10)\n",
    "ax.grid(color ='grey',\n",
    "        linestyle ='-.', linewidth = 0.5,\n",
    "        alpha = 0.2)\n",
    "ax.invert_yaxis()\n",
    "for i in ax.patches:\n",
    "    plt.text(i.get_width()+0.2, i.get_y()+0.5,\n",
    "            str(round((i.get_width()), 2)),\n",
    "            fontsize = 10, fontweight ='bold',\n",
    "            color ='gray')\n",
    "ax.set_title('Number of repatiotion of top 10 Universities',\n",
    "            loc ='left', )\n",
    "fig.text(0.9, 0.15, 'Analysis of Covid-19 papers', fontsize = 12,\n",
    "        color ='grey', ha ='right', va ='bottom',\n",
    "        alpha = 0.7)\n",
    "plt.show()"
   ]
  },
  {
   "cell_type": "markdown",
   "id": "ab4144c5",
   "metadata": {},
   "source": [
    "* # Chek computation time with different partitions\n",
    "\n",
    "\n",
    " Even in this case do multiple runs by changing the number of partitions and workers and then describe the behavior of the timings."
   ]
  },
  {
   "cell_type": "markdown",
   "id": "70966fd6",
   "metadata": {},
   "source": [
    "* ## With two workers:"
   ]
  },
  {
   "cell_type": "code",
   "execution_count": 93,
   "id": "8fa7e776",
   "metadata": {},
   "outputs": [],
   "source": [
    "def timing_part1(partitions):\n",
    "\n",
    "    i = time.time() \n",
    "    filename = '/mnt/nfs_share/test/new/*.json'\n",
    "    bag = db.read_text(filename)\n",
    "\n",
    "    #process\n",
    "    All_counts = (bag.map(json.loads).repartition(partitions).pluck('body_text').map(merge_json).map(cleaner)\n",
    "                  .map(count).flatten().foldby('word', binop=sumation, initial=0, combine=add, combine_initial=0)\n",
    "                  .compute())\n",
    "    All_counts_sorted = sorted(All_counts, key=itemgetter(1), reverse=True)\n",
    "    \n",
    "    f = time.time()\n",
    "    \n",
    "    \n",
    "    return (f-i)"
   ]
  },
  {
   "cell_type": "code",
   "execution_count": 95,
   "id": "2f132613",
   "metadata": {},
   "outputs": [
    {
     "name": "stdout",
     "output_type": "stream",
     "text": [
      "for partitions= 1 timing is : 43.731369972229004\n",
      "for partitions= 2 timing is : 43.6949143409729\n",
      "for partitions= 4 timing is : 42.523178577423096\n",
      "for partitions= 8 timing is : 40.644028186798096\n",
      "for partitions= 12 timing is : 41.36608290672302\n"
     ]
    }
   ],
   "source": [
    "partitions=[1,2,4,8,12]\n",
    "for i in partitions:\n",
    "    print('for partitions=',i,'timing is :', timing_part1(i))"
   ]
  },
  {
   "cell_type": "code",
   "execution_count": 127,
   "id": "52f7fad0",
   "metadata": {},
   "outputs": [
    {
     "data": {
      "text/plain": [
       "Text(0.5, 1.0, 'With two Worker for computuing most words used in papers')"
      ]
     },
     "execution_count": 127,
     "metadata": {},
     "output_type": "execute_result"
    },
    {
     "data": {
      "image/png": "[encoded data removed]",
      "text/plain": [
       "<Figure size 432x288 with 1 Axes>"
      ]
     },
     "metadata": {
      "needs_background": "light"
     },
     "output_type": "display_data"
    }
   ],
   "source": [
    "partitions=[1,2,4,8,12]\n",
    "ts=[43.731369972229004,43.6949143409729,42.523178577423096,40.644028186798096,41.36608290672302]\n",
    "plt.plot(partitions,ts)\n",
    "plt.xlabel('Number of partitions')\n",
    "plt.ylabel('Time')\n",
    "plt.title('With two Worker for computuing most words used in papers')"
   ]
  },
  {
   "cell_type": "code",
   "execution_count": 101,
   "id": "59e58d61",
   "metadata": {},
   "outputs": [],
   "source": [
    "# timing for part 2\n",
    "def timing_countries(partitions):\n",
    "    i = time.time() #start taking time\n",
    "    auth_df = (bag.map(json.loads).repartition(partitions)\n",
    "               .pluck('metadata').pluck('authors').flatten().map(feat).to_dataframe())\n",
    "    countries = authors_DataFrame.country.value_counts().nlargest(10).compute()\n",
    "    f = time.time()\n",
    "    return f-i"
   ]
  },
  {
   "cell_type": "code",
   "execution_count": 104,
   "id": "9984b558",
   "metadata": {},
   "outputs": [
    {
     "name": "stdout",
     "output_type": "stream",
     "text": [
      "for partitions= 1 timing is : 21.809123992919922\n",
      "for partitions= 2 timing is : 15.338640451431274\n",
      "for partitions= 4 timing is : 12.722925662994385\n",
      "for partitions= 8 timing is : 11.696454763412476\n",
      "for partitions= 12 timing is : 11.248386859893799\n",
      "for partitions= 16 timing is : 10.814738750457764\n"
     ]
    }
   ],
   "source": [
    "partitions=[1,2,4,8,12,16]\n",
    "for i in partitions:\n",
    "    print('for partitions=',i,'timing is :', timing_countries(i))"
   ]
  },
  {
   "cell_type": "markdown",
   "id": "2e9f6831",
   "metadata": {},
   "source": [
    "* ## Reduce workers to only one worker:\n",
    "\n",
    "\n",
    "Definitely it makes computation longer becuase we are reducing the resourses ( Total memory: 15.54 GiB --> 7.77 GiB) "
   ]
  },
  {
   "cell_type": "code",
   "execution_count": 113,
   "id": "d77dc9c0",
   "metadata": {},
   "outputs": [],
   "source": [
    "client.close() #close client\n",
    "cluster.close() #close cluster"
   ]
  },
  {
   "cell_type": "code",
   "execution_count": 109,
   "id": "2c1300f1",
   "metadata": {},
   "outputs": [
    {
     "name": "stderr",
     "output_type": "stream",
     "text": [
      "2022-07-11 16:02:00,540 - distributed.deploy.ssh - INFO - /usr/local/lib/python3.8/dist-packages/distributed/node.py:180: UserWarning: Port 8787 is already in use.\n",
      "2022-07-11 16:02:00,545 - distributed.deploy.ssh - INFO - Perhaps you already have a cluster running?\n",
      "2022-07-11 16:02:00,546 - distributed.deploy.ssh - INFO - Hosting the HTTP server on port 34499 instead\n",
      "2022-07-11 16:02:00,547 - distributed.deploy.ssh - INFO - warnings.warn(\n",
      "2022-07-11 16:02:00,548 - distributed.deploy.ssh - INFO - 2022-07-11 16:02:00,538 - distributed.scheduler - INFO - State start\n",
      "2022-07-11 16:02:00,552 - distributed.deploy.ssh - INFO - 2022-07-11 16:02:00,541 - distributed.scheduler - INFO - Clear task state\n",
      "2022-07-11 16:02:00,553 - distributed.deploy.ssh - INFO - 2022-07-11 16:02:00,542 - distributed.scheduler - INFO -   Scheduler at:   tcp://10.67.22.77:40397\n",
      "2022-07-11 16:02:03,636 - distributed.deploy.ssh - INFO - 2022-07-11 16:02:03,626 - distributed.nanny - INFO -         Start Nanny at: 'tcp://10.67.22.93:33105'\n",
      "2022-07-11 16:02:04,585 - distributed.deploy.ssh - INFO - 2022-07-11 16:02:04,574 - distributed.worker - INFO -       Start worker at:    tcp://10.67.22.93:34941\n"
     ]
    }
   ],
   "source": [
    "cluster = SSHCluster([machine2, machine1])\n",
    "client = Client(cluster)"
   ]
  },
  {
   "cell_type": "code",
   "execution_count": 110,
   "id": "1312bb5c",
   "metadata": {},
   "outputs": [
    {
     "data": {
      "text/html": [
       "<div>\n",
       "    <div style=\"width: 24px; height: 24px; background-color: #e1e1e1; border: 3px solid #9D9D9D; border-radius: 5px; position: absolute;\"> </div>\n",
       "    <div style=\"margin-left: 48px;\">\n",
       "        <h3 style=\"margin-bottom: 0px;\">Client</h3>\n",
       "        <p style=\"color: #9D9D9D; margin-bottom: 0px;\">Client-ceae9544-0132-11ed-a02d-17d297bf7145</p>\n",
       "        <table style=\"width: 100%; text-align: left;\">\n",
       "\n",
       "        <tr>\n",
       "        \n",
       "            <td style=\"text-align: left;\"><strong>Connection method:</strong> Cluster object</td>\n",
       "            <td style=\"text-align: left;\"><strong>Cluster type:</strong> distributed.SpecCluster</td>\n",
       "        \n",
       "        </tr>\n",
       "\n",
       "        \n",
       "            <tr>\n",
       "                <td style=\"text-align: left;\">\n",
       "                    <strong>Dashboard: </strong> <a href=\"http://10.67.22.77:34499/status\" target=\"_blank\">http://10.67.22.77:34499/status</a>\n",
       "                </td>\n",
       "                <td style=\"text-align: left;\"></td>\n",
       "            </tr>\n",
       "        \n",
       "\n",
       "        </table>\n",
       "\n",
       "        \n",
       "            <details>\n",
       "            <summary style=\"margin-bottom: 20px;\"><h3 style=\"display: inline;\">Cluster Info</h3></summary>\n",
       "            <div class=\"jp-RenderedHTMLCommon jp-RenderedHTML jp-mod-trusted jp-OutputArea-output\">\n",
       "    <div style=\"width: 24px; height: 24px; background-color: #e1e1e1; border: 3px solid #9D9D9D; border-radius: 5px; position: absolute;\">\n",
       "    </div>\n",
       "    <div style=\"margin-left: 48px;\">\n",
       "        <h3 style=\"margin-bottom: 0px; margin-top: 0px;\">SpecCluster</h3>\n",
       "        <p style=\"color: #9D9D9D; margin-bottom: 0px;\">SSHCluster</p>\n",
       "        <table style=\"width: 100%; text-align: left;\">\n",
       "            <tr>\n",
       "                <td style=\"text-align: left;\">\n",
       "                    <strong>Dashboard:</strong> <a href=\"http://10.67.22.77:34499/status\" target=\"_blank\">http://10.67.22.77:34499/status</a>\n",
       "                </td>\n",
       "                <td style=\"text-align: left;\">\n",
       "                    <strong>Workers:</strong> 1\n",
       "                </td>\n",
       "            </tr>\n",
       "            <tr>\n",
       "                <td style=\"text-align: left;\">\n",
       "                    <strong>Total threads:</strong> 4\n",
       "                </td>\n",
       "                <td style=\"text-align: left;\">\n",
       "                    <strong>Total memory:</strong> 7.77 GiB\n",
       "                </td>\n",
       "            </tr>\n",
       "            \n",
       "        </table>\n",
       "\n",
       "        <details>\n",
       "            <summary style=\"margin-bottom: 20px;\">\n",
       "                <h3 style=\"display: inline;\">Scheduler Info</h3>\n",
       "            </summary>\n",
       "\n",
       "            <div style=\"\">\n",
       "    <div>\n",
       "        <div style=\"width: 24px; height: 24px; background-color: #FFF7E5; border: 3px solid #FF6132; border-radius: 5px; position: absolute;\"> </div>\n",
       "        <div style=\"margin-left: 48px;\">\n",
       "            <h3 style=\"margin-bottom: 0px;\">Scheduler</h3>\n",
       "            <p style=\"color: #9D9D9D; margin-bottom: 0px;\">Scheduler-ab7dee7a-3f77-4248-a561-e800fb6303f4</p>\n",
       "            <table style=\"width: 100%; text-align: left;\">\n",
       "                <tr>\n",
       "                    <td style=\"text-align: left;\">\n",
       "                        <strong>Comm:</strong> tcp://10.67.22.77:40397\n",
       "                    </td>\n",
       "                    <td style=\"text-align: left;\">\n",
       "                        <strong>Workers:</strong> 1\n",
       "                    </td>\n",
       "                </tr>\n",
       "                <tr>\n",
       "                    <td style=\"text-align: left;\">\n",
       "                        <strong>Dashboard:</strong> <a href=\"http://10.67.22.77:34499/status\" target=\"_blank\">http://10.67.22.77:34499/status</a>\n",
       "                    </td>\n",
       "                    <td style=\"text-align: left;\">\n",
       "                        <strong>Total threads:</strong> 4\n",
       "                    </td>\n",
       "                </tr>\n",
       "                <tr>\n",
       "                    <td style=\"text-align: left;\">\n",
       "                        <strong>Started:</strong> Just now\n",
       "                    </td>\n",
       "                    <td style=\"text-align: left;\">\n",
       "                        <strong>Total memory:</strong> 7.77 GiB\n",
       "                    </td>\n",
       "                </tr>\n",
       "            </table>\n",
       "        </div>\n",
       "    </div>\n",
       "\n",
       "    <details style=\"margin-left: 48px;\">\n",
       "        <summary style=\"margin-bottom: 20px;\">\n",
       "            <h3 style=\"display: inline;\">Workers</h3>\n",
       "        </summary>\n",
       "\n",
       "        \n",
       "        <div style=\"margin-bottom: 20px;\">\n",
       "            <div style=\"width: 24px; height: 24px; background-color: #DBF5FF; border: 3px solid #4CC9FF; border-radius: 5px; position: absolute;\"> </div>\n",
       "            <div style=\"margin-left: 48px;\">\n",
       "            <details>\n",
       "                <summary>\n",
       "                    <h4 style=\"margin-bottom: 0px; display: inline;\">Worker: tcp://10.67.22.93:34941</h4>\n",
       "                </summary>\n",
       "                <table style=\"width: 100%; text-align: left;\">\n",
       "                    <tr>\n",
       "                        <td style=\"text-align: left;\">\n",
       "                            <strong>Comm: </strong> tcp://10.67.22.93:34941\n",
       "                        </td>\n",
       "                        <td style=\"text-align: left;\">\n",
       "                            <strong>Total threads: </strong> 4\n",
       "                        </td>\n",
       "                    </tr>\n",
       "                    <tr>\n",
       "                        <td style=\"text-align: left;\">\n",
       "                            <strong>Dashboard: </strong> <a href=\"http://10.67.22.93:40561/status\" target=\"_blank\">http://10.67.22.93:40561/status</a>\n",
       "                        </td>\n",
       "                        <td style=\"text-align: left;\">\n",
       "                            <strong>Memory: </strong> 7.77 GiB\n",
       "                        </td>\n",
       "                    </tr>\n",
       "                    <tr>\n",
       "                        <td style=\"text-align: left;\">\n",
       "                            <strong>Nanny: </strong> tcp://10.67.22.93:33105\n",
       "                        </td>\n",
       "                        <td style=\"text-align: left;\"></td>\n",
       "                    </tr>\n",
       "                    <tr>\n",
       "                        <td colspan=\"2\" style=\"text-align: left;\">\n",
       "                            <strong>Local directory: </strong> /root/dask-worker-space/worker-g8yjpny3\n",
       "                        </td>\n",
       "                    </tr>\n",
       "\n",
       "                    \n",
       "\n",
       "                    \n",
       "\n",
       "                </table>\n",
       "            </details>\n",
       "            </div>\n",
       "        </div>\n",
       "        \n",
       "\n",
       "    </details>\n",
       "</div>\n",
       "\n",
       "        </details>\n",
       "    </div>\n",
       "</div>\n",
       "            </details>\n",
       "        \n",
       "\n",
       "    </div>\n",
       "</div>"
      ],
      "text/plain": [
       "<Client: 'tcp://10.67.22.77:40397' processes=1 threads=4, memory=7.77 GiB>"
      ]
     },
     "execution_count": 110,
     "metadata": {},
     "output_type": "execute_result"
    }
   ],
   "source": [
    "client"
   ]
  },
  {
   "cell_type": "code",
   "execution_count": 112,
   "id": "ea1a0430",
   "metadata": {},
   "outputs": [
    {
     "name": "stdout",
     "output_type": "stream",
     "text": [
      "for partitions= 1 timing is : 34.420822620391846\n",
      "for partitions= 2 timing is : 26.454702138900757\n",
      "for partitions= 4 timing is : 22.312560319900513\n",
      "for partitions= 8 timing is : 20.23440670967102\n",
      "for partitions= 12 timing is : 19.26630735397339\n",
      "for partitions= 16 timing is : 19.428391218185425\n"
     ]
    }
   ],
   "source": [
    "partitions=[1,2,4,8,12,16]\n",
    "for i in partitions:\n",
    "    print('for partitions=',i,'timing is :', timing_countries(i))"
   ]
  },
  {
   "cell_type": "code",
   "execution_count": 132,
   "id": "a9a8bb4d",
   "metadata": {},
   "outputs": [
    {
     "data": {
      "text/plain": [
       "Text(0.5, 1.0, 'Computuing most countries')"
      ]
     },
     "execution_count": 132,
     "metadata": {},
     "output_type": "execute_result"
    },
    {
     "data": {
      "image/png": "[encoded data removed]",
      "text/plain": [
       "<Figure size 432x288 with 1 Axes>"
      ]
     },
     "metadata": {
      "needs_background": "light"
     },
     "output_type": "display_data"
    }
   ],
   "source": [
    "tsc=[21.809123992919922,15.338640451431274,12.722925662994385,11.696454763412476,11.248386859893799,10.814738750457764]\n",
    "tss=[34.420822620391846,26.454702138900757,22.312560319900513,20.23440670967102,19.26630735397339,19.428391218185425]\n",
    "plt.plot(partitions,tss,label='1 Worker')\n",
    "plt.xlabel('Number of partitions')\n",
    "plt.ylabel('Time')\n",
    "plt.plot(partitions,tsc,label='2 Worker')\n",
    "plt.legend()\n",
    "plt.title('Computuing most countries')"
   ]
  },
  {
   "cell_type": "markdown",
   "id": "6e542dda",
   "metadata": {},
   "source": [
    "# 3. Get the embedding for the title of the papers\n",
    "\n",
    "In NLP a common technique for performing analysis over a set of texts is to transform the text into a set of vectors each one representing a word inside a document. At the end of the pre-processing the document will be transformed into a list of vectors or a matrix of n × m where n is the number of words in the document and m is the size of the vector that represents the word n."
   ]
  },
  {
   "cell_type": "code",
   "execution_count": 12,
   "id": "f1b4b8b0",
   "metadata": {},
   "outputs": [],
   "source": [
    "model = ddf.read_table('/mnt/nfs_share/wiki.en.vec',\n",
    "                      quoting=csv.QUOTE_NONE,\n",
    "                      skiprows=1,\n",
    "                      header=None, \n",
    "                      sep=' ',\n",
    "                      blocksize='10MB')"
   ]
  },
  {
   "cell_type": "code",
   "execution_count": 13,
   "id": "ebec633e",
   "metadata": {},
   "outputs": [
    {
     "data": {
      "text/html": [
       "<div>\n",
       "<style scoped>\n",
       "    .dataframe tbody tr th:only-of-type {\n",
       "        vertical-align: middle;\n",
       "    }\n",
       "\n",
       "    .dataframe tbody tr th {\n",
       "        vertical-align: top;\n",
       "    }\n",
       "\n",
       "    .dataframe thead th {\n",
       "        text-align: right;\n",
       "    }\n",
       "</style>\n",
       "<table border=\"1\" class=\"dataframe\">\n",
       "  <thead>\n",
       "    <tr style=\"text-align: right;\">\n",
       "      <th></th>\n",
       "      <th>0</th>\n",
       "      <th>1</th>\n",
       "      <th>2</th>\n",
       "      <th>3</th>\n",
       "      <th>4</th>\n",
       "      <th>5</th>\n",
       "      <th>6</th>\n",
       "      <th>7</th>\n",
       "      <th>8</th>\n",
       "      <th>9</th>\n",
       "      <th>...</th>\n",
       "      <th>292</th>\n",
       "      <th>293</th>\n",
       "      <th>294</th>\n",
       "      <th>295</th>\n",
       "      <th>296</th>\n",
       "      <th>297</th>\n",
       "      <th>298</th>\n",
       "      <th>299</th>\n",
       "      <th>300</th>\n",
       "      <th>301</th>\n",
       "    </tr>\n",
       "  </thead>\n",
       "  <tbody>\n",
       "    <tr>\n",
       "      <th>0</th>\n",
       "      <td>,</td>\n",
       "      <td>-0.023167</td>\n",
       "      <td>-0.004248</td>\n",
       "      <td>-0.105720</td>\n",
       "      <td>0.042783</td>\n",
       "      <td>-0.143160</td>\n",
       "      <td>-0.078954</td>\n",
       "      <td>0.078187</td>\n",
       "      <td>-0.194540</td>\n",
       "      <td>0.022303</td>\n",
       "      <td>...</td>\n",
       "      <td>-0.11558</td>\n",
       "      <td>0.044184</td>\n",
       "      <td>-0.023124</td>\n",
       "      <td>0.025860</td>\n",
       "      <td>-0.116530</td>\n",
       "      <td>0.010936</td>\n",
       "      <td>0.089398</td>\n",
       "      <td>-0.01590</td>\n",
       "      <td>0.148660</td>\n",
       "      <td>NaN</td>\n",
       "    </tr>\n",
       "    <tr>\n",
       "      <th>1</th>\n",
       "      <td>.</td>\n",
       "      <td>-0.111120</td>\n",
       "      <td>-0.001386</td>\n",
       "      <td>-0.177800</td>\n",
       "      <td>0.064508</td>\n",
       "      <td>-0.240370</td>\n",
       "      <td>0.031087</td>\n",
       "      <td>-0.030144</td>\n",
       "      <td>-0.368830</td>\n",
       "      <td>-0.043855</td>\n",
       "      <td>...</td>\n",
       "      <td>-0.21914</td>\n",
       "      <td>-0.042760</td>\n",
       "      <td>-0.136850</td>\n",
       "      <td>0.097470</td>\n",
       "      <td>-0.218180</td>\n",
       "      <td>-0.058233</td>\n",
       "      <td>0.063374</td>\n",
       "      <td>-0.12161</td>\n",
       "      <td>0.039339</td>\n",
       "      <td>NaN</td>\n",
       "    </tr>\n",
       "    <tr>\n",
       "      <th>2</th>\n",
       "      <td>the</td>\n",
       "      <td>-0.065334</td>\n",
       "      <td>-0.093031</td>\n",
       "      <td>-0.017571</td>\n",
       "      <td>0.200070</td>\n",
       "      <td>0.029521</td>\n",
       "      <td>-0.039920</td>\n",
       "      <td>-0.163280</td>\n",
       "      <td>-0.072946</td>\n",
       "      <td>0.089604</td>\n",
       "      <td>...</td>\n",
       "      <td>-0.21673</td>\n",
       "      <td>-0.037683</td>\n",
       "      <td>0.081860</td>\n",
       "      <td>-0.039891</td>\n",
       "      <td>-0.051334</td>\n",
       "      <td>-0.101650</td>\n",
       "      <td>0.166420</td>\n",
       "      <td>-0.13079</td>\n",
       "      <td>0.035397</td>\n",
       "      <td>NaN</td>\n",
       "    </tr>\n",
       "  </tbody>\n",
       "</table>\n",
       "<p>3 rows × 302 columns</p>\n",
       "</div>"
      ],
      "text/plain": [
       "   0         1         2         3         4         5         6         7    \\\n",
       "0    , -0.023167 -0.004248 -0.105720  0.042783 -0.143160 -0.078954  0.078187   \n",
       "1    . -0.111120 -0.001386 -0.177800  0.064508 -0.240370  0.031087 -0.030144   \n",
       "2  the -0.065334 -0.093031 -0.017571  0.200070  0.029521 -0.039920 -0.163280   \n",
       "\n",
       "        8         9    ...      292       293       294       295       296  \\\n",
       "0 -0.194540  0.022303  ... -0.11558  0.044184 -0.023124  0.025860 -0.116530   \n",
       "1 -0.368830 -0.043855  ... -0.21914 -0.042760 -0.136850  0.097470 -0.218180   \n",
       "2 -0.072946  0.089604  ... -0.21673 -0.037683  0.081860 -0.039891 -0.051334   \n",
       "\n",
       "        297       298      299       300  301  \n",
       "0  0.010936  0.089398 -0.01590  0.148660  NaN  \n",
       "1 -0.058233  0.063374 -0.12161  0.039339  NaN  \n",
       "2 -0.101650  0.166420 -0.13079  0.035397  NaN  \n",
       "\n",
       "[3 rows x 302 columns]"
      ]
     },
     "execution_count": 13,
     "metadata": {},
     "output_type": "execute_result"
    }
   ],
   "source": [
    "model.head(3)"
   ]
  },
  {
   "cell_type": "code",
   "execution_count": 14,
   "id": "34d234b6",
   "metadata": {},
   "outputs": [
    {
     "data": {
      "text/html": [
       "<div>\n",
       "<style scoped>\n",
       "    .dataframe tbody tr th:only-of-type {\n",
       "        vertical-align: middle;\n",
       "    }\n",
       "\n",
       "    .dataframe tbody tr th {\n",
       "        vertical-align: top;\n",
       "    }\n",
       "\n",
       "    .dataframe thead th {\n",
       "        text-align: right;\n",
       "    }\n",
       "</style>\n",
       "<table border=\"1\" class=\"dataframe\">\n",
       "  <thead>\n",
       "    <tr style=\"text-align: right;\">\n",
       "      <th></th>\n",
       "      <th>0</th>\n",
       "      <th>1</th>\n",
       "      <th>2</th>\n",
       "      <th>3</th>\n",
       "      <th>4</th>\n",
       "      <th>5</th>\n",
       "      <th>6</th>\n",
       "      <th>7</th>\n",
       "      <th>8</th>\n",
       "      <th>9</th>\n",
       "      <th>...</th>\n",
       "      <th>292</th>\n",
       "      <th>293</th>\n",
       "      <th>294</th>\n",
       "      <th>295</th>\n",
       "      <th>296</th>\n",
       "      <th>297</th>\n",
       "      <th>298</th>\n",
       "      <th>299</th>\n",
       "      <th>300</th>\n",
       "      <th>301</th>\n",
       "    </tr>\n",
       "  </thead>\n",
       "  <tbody>\n",
       "    <tr>\n",
       "      <th>0</th>\n",
       "      <td>,</td>\n",
       "      <td>-0.023167</td>\n",
       "      <td>-0.004248</td>\n",
       "      <td>-0.10572</td>\n",
       "      <td>0.042783</td>\n",
       "      <td>-0.14316</td>\n",
       "      <td>-0.078954</td>\n",
       "      <td>0.078187</td>\n",
       "      <td>-0.19454</td>\n",
       "      <td>0.022303</td>\n",
       "      <td>...</td>\n",
       "      <td>-0.11558</td>\n",
       "      <td>0.044184</td>\n",
       "      <td>-0.023124</td>\n",
       "      <td>0.02586</td>\n",
       "      <td>-0.11653</td>\n",
       "      <td>0.010936</td>\n",
       "      <td>0.089398</td>\n",
       "      <td>-0.0159</td>\n",
       "      <td>0.14866</td>\n",
       "      <td>NaN</td>\n",
       "    </tr>\n",
       "  </tbody>\n",
       "</table>\n",
       "<p>1 rows × 302 columns</p>\n",
       "</div>"
      ],
      "text/plain": [
       "  0         1         2        3         4        5         6         7    \\\n",
       "0   , -0.023167 -0.004248 -0.10572  0.042783 -0.14316 -0.078954  0.078187   \n",
       "\n",
       "       8         9    ...      292       293       294      295      296  \\\n",
       "0 -0.19454  0.022303  ... -0.11558  0.044184 -0.023124  0.02586 -0.11653   \n",
       "\n",
       "        297       298     299      300  301  \n",
       "0  0.010936  0.089398 -0.0159  0.14866  NaN  \n",
       "\n",
       "[1 rows x 302 columns]"
      ]
     },
     "execution_count": 14,
     "metadata": {},
     "output_type": "execute_result"
    }
   ],
   "source": [
    "model[model[0] == ','].head(2)"
   ]
  },
  {
   "cell_type": "code",
   "execution_count": 15,
   "id": "776e68da",
   "metadata": {},
   "outputs": [],
   "source": [
    "def extract_id_title(record):\n",
    "    ID = record['paper_id']\n",
    "    title_tokens = word_tokenize(record['metadata']['title'])\n",
    "    title = [word.lower() for word in title_tokens] #deleting punctuation marks could be a good idea.\n",
    "    return{'ID': ID,\n",
    "          'title': title}"
   ]
  },
  {
   "cell_type": "code",
   "execution_count": 16,
   "id": "f674b472",
   "metadata": {},
   "outputs": [],
   "source": [
    "titles = js.map(extract_id_title)"
   ]
  },
  {
   "cell_type": "code",
   "execution_count": 17,
   "id": "c8d8665a",
   "metadata": {},
   "outputs": [
    {
     "data": {
      "text/plain": [
       "({'ID': '0021ebe4404bb7aea40f696a8261b6bd1d4a7f6b',\n",
       "  'title': ['journal',\n",
       "   'pre-proof',\n",
       "   'high-flow',\n",
       "   'nasal',\n",
       "   'oxygen',\n",
       "   'therapy',\n",
       "   'decrease',\n",
       "   'the',\n",
       "   'risk',\n",
       "   'of',\n",
       "   'mortality',\n",
       "   'and',\n",
       "   'the',\n",
       "   'use',\n",
       "   'of',\n",
       "   'invasive',\n",
       "   'mechanical',\n",
       "   'ventilation',\n",
       "   'in',\n",
       "   'patients',\n",
       "   'with',\n",
       "   'severe',\n",
       "   'sars-cov-2',\n",
       "   'pneumonia',\n",
       "   '?',\n",
       "   'a',\n",
       "   'retrospective',\n",
       "   'and',\n",
       "   'comparative',\n",
       "   'study',\n",
       "   'of',\n",
       "   '265',\n",
       "   'cases',\n",
       "   'high-flow',\n",
       "   'nasal',\n",
       "   'oxygen',\n",
       "   'therapy',\n",
       "   'decrease',\n",
       "   'the',\n",
       "   'risk',\n",
       "   'of',\n",
       "   'mortality',\n",
       "   'and',\n",
       "   'the',\n",
       "   'use',\n",
       "   'of',\n",
       "   'invasive',\n",
       "   'mechanical',\n",
       "   'ventilation',\n",
       "   'in',\n",
       "   'patients',\n",
       "   'with',\n",
       "   'severe',\n",
       "   'sars-cov-2',\n",
       "   'pneumonia',\n",
       "   '?',\n",
       "   'alkouh',\n",
       "   'rajae',\n",
       "   'corresponding',\n",
       "   'author',\n",
       "   'merbouh',\n",
       "   'manal',\n",
       "   'guarantor',\n",
       "   'authors']},\n",
       " {'ID': '009b5163b1d8dc61b76f424203ecdc3885234ada',\n",
       "  'title': ['high',\n",
       "   'level',\n",
       "   'expression',\n",
       "   'of',\n",
       "   'surface',\n",
       "   'glycoprotein',\n",
       "   'of',\n",
       "   'rabies',\n",
       "   'virus',\n",
       "   'in',\n",
       "   'tobacco',\n",
       "   'leaves',\n",
       "   'and',\n",
       "   'its',\n",
       "   'immunoprotective',\n",
       "   'activity',\n",
       "   'in',\n",
       "   'mice']})"
      ]
     },
     "execution_count": 17,
     "metadata": {},
     "output_type": "execute_result"
    }
   ],
   "source": [
    "titles.take(2)"
   ]
  },
  {
   "cell_type": "code",
   "execution_count": 18,
   "id": "e908e943",
   "metadata": {},
   "outputs": [
    {
     "data": {
      "text/html": [
       "<div>\n",
       "<style scoped>\n",
       "    .dataframe tbody tr th:only-of-type {\n",
       "        vertical-align: middle;\n",
       "    }\n",
       "\n",
       "    .dataframe tbody tr th {\n",
       "        vertical-align: top;\n",
       "    }\n",
       "\n",
       "    .dataframe thead th {\n",
       "        text-align: right;\n",
       "    }\n",
       "</style>\n",
       "<table border=\"1\" class=\"dataframe\">\n",
       "  <thead>\n",
       "    <tr style=\"text-align: right;\">\n",
       "      <th></th>\n",
       "      <th>ID</th>\n",
       "      <th>title</th>\n",
       "    </tr>\n",
       "  </thead>\n",
       "  <tbody>\n",
       "    <tr>\n",
       "      <th>0</th>\n",
       "      <td>0021ebe4404bb7aea40f696a8261b6bd1d4a7f6b</td>\n",
       "      <td>[journal, pre-proof, high-flow, nasal, oxygen,...</td>\n",
       "    </tr>\n",
       "    <tr>\n",
       "      <th>1</th>\n",
       "      <td>009b5163b1d8dc61b76f424203ecdc3885234ada</td>\n",
       "      <td>[high, level, expression, of, surface, glycopr...</td>\n",
       "    </tr>\n",
       "    <tr>\n",
       "      <th>2</th>\n",
       "      <td>00a407540a8bdd6d7425bd8a561eb21d69682511</td>\n",
       "      <td>[title, :, rapid, ai, development, cycle, for,...</td>\n",
       "    </tr>\n",
       "    <tr>\n",
       "      <th>3</th>\n",
       "      <td>00de40db0c80064b049e3b90d4a6710bb2dfcbc8</td>\n",
       "      <td>[modelling, the, covid-19, pandemic, in, conte...</td>\n",
       "    </tr>\n",
       "  </tbody>\n",
       "</table>\n",
       "</div>"
      ],
      "text/plain": [
       "                                         ID  \\\n",
       "0  0021ebe4404bb7aea40f696a8261b6bd1d4a7f6b   \n",
       "1  009b5163b1d8dc61b76f424203ecdc3885234ada   \n",
       "2  00a407540a8bdd6d7425bd8a561eb21d69682511   \n",
       "3  00de40db0c80064b049e3b90d4a6710bb2dfcbc8   \n",
       "\n",
       "                                               title  \n",
       "0  [journal, pre-proof, high-flow, nasal, oxygen,...  \n",
       "1  [high, level, expression, of, surface, glycopr...  \n",
       "2  [title, :, rapid, ai, development, cycle, for,...  \n",
       "3  [modelling, the, covid-19, pandemic, in, conte...  "
      ]
     },
     "execution_count": 18,
     "metadata": {},
     "output_type": "execute_result"
    }
   ],
   "source": [
    "title_df = titles.to_dataframe()\n",
    "title_df.head(4)"
   ]
  },
  {
   "cell_type": "code",
   "execution_count": 54,
   "id": "10afdf83",
   "metadata": {},
   "outputs": [],
   "source": [
    "#now I want to find all the words in the titles"
   ]
  },
  {
   "cell_type": "code",
   "execution_count": 19,
   "id": "c52f0d74",
   "metadata": {},
   "outputs": [],
   "source": [
    "#I can use the previous functions\n",
    "title_count = titles.pluck('title').map(count_words).flatten().foldby('word', binop=incr_amount,initial=0,combine=add,combine_initial=0).compute()"
   ]
  },
  {
   "cell_type": "code",
   "execution_count": 20,
   "id": "a346bd8f",
   "metadata": {},
   "outputs": [],
   "source": [
    "unique_words_title = [title_count[i][0] for i in range(0,len(title_count))]"
   ]
  },
  {
   "cell_type": "code",
   "execution_count": 57,
   "id": "f4204868",
   "metadata": {},
   "outputs": [
    {
     "data": {
      "text/plain": [
       "4243"
      ]
     },
     "execution_count": 57,
     "metadata": {},
     "output_type": "execute_result"
    }
   ],
   "source": [
    "len(unique_words_title) #I want to to use this to filter the model"
   ]
  },
  {
   "cell_type": "code",
   "execution_count": 65,
   "id": "5098144c",
   "metadata": {},
   "outputs": [
    {
     "data": {
      "text/html": [
       "<div>\n",
       "<style scoped>\n",
       "    .dataframe tbody tr th:only-of-type {\n",
       "        vertical-align: middle;\n",
       "    }\n",
       "\n",
       "    .dataframe tbody tr th {\n",
       "        vertical-align: top;\n",
       "    }\n",
       "\n",
       "    .dataframe thead th {\n",
       "        text-align: right;\n",
       "    }\n",
       "</style>\n",
       "<table border=\"1\" class=\"dataframe\">\n",
       "  <thead>\n",
       "    <tr style=\"text-align: right;\">\n",
       "      <th></th>\n",
       "      <th>0</th>\n",
       "      <th>1</th>\n",
       "      <th>2</th>\n",
       "      <th>3</th>\n",
       "      <th>4</th>\n",
       "      <th>5</th>\n",
       "      <th>6</th>\n",
       "      <th>7</th>\n",
       "      <th>8</th>\n",
       "      <th>9</th>\n",
       "      <th>...</th>\n",
       "      <th>292</th>\n",
       "      <th>293</th>\n",
       "      <th>294</th>\n",
       "      <th>295</th>\n",
       "      <th>296</th>\n",
       "      <th>297</th>\n",
       "      <th>298</th>\n",
       "      <th>299</th>\n",
       "      <th>300</th>\n",
       "      <th>301</th>\n",
       "    </tr>\n",
       "  </thead>\n",
       "  <tbody>\n",
       "    <tr>\n",
       "      <th>0</th>\n",
       "      <td>,</td>\n",
       "      <td>-0.023167</td>\n",
       "      <td>-0.004248</td>\n",
       "      <td>-0.10572</td>\n",
       "      <td>0.042783</td>\n",
       "      <td>-0.14316</td>\n",
       "      <td>-0.078954</td>\n",
       "      <td>0.078187</td>\n",
       "      <td>-0.19454</td>\n",
       "      <td>0.022303</td>\n",
       "      <td>...</td>\n",
       "      <td>-0.11558</td>\n",
       "      <td>0.044184</td>\n",
       "      <td>-0.023124</td>\n",
       "      <td>0.02586</td>\n",
       "      <td>-0.11653</td>\n",
       "      <td>0.010936</td>\n",
       "      <td>0.089398</td>\n",
       "      <td>-0.0159</td>\n",
       "      <td>0.14866</td>\n",
       "      <td>NaN</td>\n",
       "    </tr>\n",
       "  </tbody>\n",
       "</table>\n",
       "<p>1 rows × 302 columns</p>\n",
       "</div>"
      ],
      "text/plain": [
       "  0         1         2        3         4        5         6         7    \\\n",
       "0   , -0.023167 -0.004248 -0.10572  0.042783 -0.14316 -0.078954  0.078187   \n",
       "\n",
       "       8         9    ...      292       293       294      295      296  \\\n",
       "0 -0.19454  0.022303  ... -0.11558  0.044184 -0.023124  0.02586 -0.11653   \n",
       "\n",
       "        297       298     299      300  301  \n",
       "0  0.010936  0.089398 -0.0159  0.14866  NaN  \n",
       "\n",
       "[1 rows x 302 columns]"
      ]
     },
     "execution_count": 65,
     "metadata": {},
     "output_type": "execute_result"
    }
   ],
   "source": [
    "model[model[0] == ','].head(2)"
   ]
  },
  {
   "cell_type": "code",
   "execution_count": 21,
   "id": "5fce6bad",
   "metadata": {},
   "outputs": [],
   "source": [
    "mask = model[0].isin(unique_words_title)#very slow, maybe there is a more efficient way."
   ]
  },
  {
   "cell_type": "code",
   "execution_count": 75,
   "id": "1eb3f863",
   "metadata": {},
   "outputs": [
    {
     "ename": "SyntaxError",
     "evalue": "unexpected EOF while parsing (1150260447.py, line 1)",
     "output_type": "error",
     "traceback": [
      "\u001b[0;36m  Input \u001b[0;32mIn [75]\u001b[0;36m\u001b[0m\n\u001b[0;31m    len(mask[:5]\u001b[0m\n\u001b[0m                ^\u001b[0m\n\u001b[0;31mSyntaxError\u001b[0m\u001b[0;31m:\u001b[0m unexpected EOF while parsing\n"
     ]
    }
   ],
   "source": [
    "len(mask)"
   ]
  },
  {
   "cell_type": "code",
   "execution_count": 74,
   "id": "0f2df6d8",
   "metadata": {},
   "outputs": [
    {
     "data": {
      "text/plain": [
       "2519370"
      ]
     },
     "execution_count": 74,
     "metadata": {},
     "output_type": "execute_result"
    }
   ],
   "source": [
    "len(model)"
   ]
  },
  {
   "cell_type": "code",
   "execution_count": 78,
   "id": "9a741aaf",
   "metadata": {},
   "outputs": [
    {
     "data": {
      "text/plain": [
       "0      True\n",
       "1      True\n",
       "2      True\n",
       "3     False\n",
       "4      True\n",
       "      ...  \n",
       "95     True\n",
       "96    False\n",
       "97     True\n",
       "98     True\n",
       "99     True\n",
       "Name: 0, Length: 100, dtype: bool"
      ]
     },
     "execution_count": 78,
     "metadata": {},
     "output_type": "execute_result"
    }
   ],
   "source": [
    "mask.head(100)"
   ]
  },
  {
   "cell_type": "code",
   "execution_count": 22,
   "id": "17aa60ea",
   "metadata": {},
   "outputs": [],
   "source": [
    "filtered_model = model[mask]"
   ]
  },
  {
   "cell_type": "code",
   "execution_count": 27,
   "id": "12028c99",
   "metadata": {},
   "outputs": [
    {
     "data": {
      "text/html": [
       "<div>\n",
       "<style scoped>\n",
       "    .dataframe tbody tr th:only-of-type {\n",
       "        vertical-align: middle;\n",
       "    }\n",
       "\n",
       "    .dataframe tbody tr th {\n",
       "        vertical-align: top;\n",
       "    }\n",
       "\n",
       "    .dataframe thead th {\n",
       "        text-align: right;\n",
       "    }\n",
       "</style>\n",
       "<table border=\"1\" class=\"dataframe\">\n",
       "  <thead>\n",
       "    <tr style=\"text-align: right;\">\n",
       "      <th></th>\n",
       "      <th>0</th>\n",
       "      <th>1</th>\n",
       "      <th>2</th>\n",
       "      <th>3</th>\n",
       "      <th>4</th>\n",
       "      <th>5</th>\n",
       "      <th>6</th>\n",
       "      <th>7</th>\n",
       "      <th>8</th>\n",
       "      <th>9</th>\n",
       "      <th>...</th>\n",
       "      <th>292</th>\n",
       "      <th>293</th>\n",
       "      <th>294</th>\n",
       "      <th>295</th>\n",
       "      <th>296</th>\n",
       "      <th>297</th>\n",
       "      <th>298</th>\n",
       "      <th>299</th>\n",
       "      <th>300</th>\n",
       "      <th>301</th>\n",
       "    </tr>\n",
       "  </thead>\n",
       "  <tbody>\n",
       "    <tr>\n",
       "      <th>0</th>\n",
       "      <td>,</td>\n",
       "      <td>-0.023167</td>\n",
       "      <td>-0.004248</td>\n",
       "      <td>-0.105720</td>\n",
       "      <td>0.042783</td>\n",
       "      <td>-0.143160</td>\n",
       "      <td>-0.078954</td>\n",
       "      <td>0.078187</td>\n",
       "      <td>-0.194540</td>\n",
       "      <td>0.022303</td>\n",
       "      <td>...</td>\n",
       "      <td>-0.11558</td>\n",
       "      <td>0.044184</td>\n",
       "      <td>-0.023124</td>\n",
       "      <td>0.025860</td>\n",
       "      <td>-0.116530</td>\n",
       "      <td>0.010936</td>\n",
       "      <td>0.089398</td>\n",
       "      <td>-0.01590</td>\n",
       "      <td>0.148660</td>\n",
       "      <td>NaN</td>\n",
       "    </tr>\n",
       "    <tr>\n",
       "      <th>1</th>\n",
       "      <td>.</td>\n",
       "      <td>-0.111120</td>\n",
       "      <td>-0.001386</td>\n",
       "      <td>-0.177800</td>\n",
       "      <td>0.064508</td>\n",
       "      <td>-0.240370</td>\n",
       "      <td>0.031087</td>\n",
       "      <td>-0.030144</td>\n",
       "      <td>-0.368830</td>\n",
       "      <td>-0.043855</td>\n",
       "      <td>...</td>\n",
       "      <td>-0.21914</td>\n",
       "      <td>-0.042760</td>\n",
       "      <td>-0.136850</td>\n",
       "      <td>0.097470</td>\n",
       "      <td>-0.218180</td>\n",
       "      <td>-0.058233</td>\n",
       "      <td>0.063374</td>\n",
       "      <td>-0.12161</td>\n",
       "      <td>0.039339</td>\n",
       "      <td>NaN</td>\n",
       "    </tr>\n",
       "    <tr>\n",
       "      <th>2</th>\n",
       "      <td>the</td>\n",
       "      <td>-0.065334</td>\n",
       "      <td>-0.093031</td>\n",
       "      <td>-0.017571</td>\n",
       "      <td>0.200070</td>\n",
       "      <td>0.029521</td>\n",
       "      <td>-0.039920</td>\n",
       "      <td>-0.163280</td>\n",
       "      <td>-0.072946</td>\n",
       "      <td>0.089604</td>\n",
       "      <td>...</td>\n",
       "      <td>-0.21673</td>\n",
       "      <td>-0.037683</td>\n",
       "      <td>0.081860</td>\n",
       "      <td>-0.039891</td>\n",
       "      <td>-0.051334</td>\n",
       "      <td>-0.101650</td>\n",
       "      <td>0.166420</td>\n",
       "      <td>-0.13079</td>\n",
       "      <td>0.035397</td>\n",
       "      <td>NaN</td>\n",
       "    </tr>\n",
       "  </tbody>\n",
       "</table>\n",
       "<p>3 rows × 302 columns</p>\n",
       "</div>"
      ],
      "text/plain": [
       "   0         1         2         3         4         5         6         7    \\\n",
       "0    , -0.023167 -0.004248 -0.105720  0.042783 -0.143160 -0.078954  0.078187   \n",
       "1    . -0.111120 -0.001386 -0.177800  0.064508 -0.240370  0.031087 -0.030144   \n",
       "2  the -0.065334 -0.093031 -0.017571  0.200070  0.029521 -0.039920 -0.163280   \n",
       "\n",
       "        8         9    ...      292       293       294       295       296  \\\n",
       "0 -0.194540  0.022303  ... -0.11558  0.044184 -0.023124  0.025860 -0.116530   \n",
       "1 -0.368830 -0.043855  ... -0.21914 -0.042760 -0.136850  0.097470 -0.218180   \n",
       "2 -0.072946  0.089604  ... -0.21673 -0.037683  0.081860 -0.039891 -0.051334   \n",
       "\n",
       "        297       298      299       300  301  \n",
       "0  0.010936  0.089398 -0.01590  0.148660  NaN  \n",
       "1 -0.058233  0.063374 -0.12161  0.039339  NaN  \n",
       "2 -0.101650  0.166420 -0.13079  0.035397  NaN  \n",
       "\n",
       "[3 rows x 302 columns]"
      ]
     },
     "execution_count": 27,
     "metadata": {},
     "output_type": "execute_result"
    }
   ],
   "source": [
    "filtered_model.head(3) "
   ]
  },
  {
   "cell_type": "code",
   "execution_count": 20,
   "id": "14d052fb",
   "metadata": {},
   "outputs": [
    {
     "data": {
      "text/plain": [
       "dask.dataframe.core.DataFrame"
      ]
     },
     "execution_count": 20,
     "metadata": {},
     "output_type": "execute_result"
    }
   ],
   "source": [
    "type(filtered_model)"
   ]
  },
  {
   "cell_type": "code",
   "execution_count": null,
   "id": "9fac158b",
   "metadata": {},
   "outputs": [],
   "source": [
    "#let's go on using only the filtered model."
   ]
  },
  {
   "cell_type": "code",
   "execution_count": null,
   "id": "76accc4c",
   "metadata": {},
   "outputs": [],
   "source": [
    "#Now we need to create a new dataframe with paperID and embeddings"
   ]
  },
  {
   "cell_type": "code",
   "execution_count": 70,
   "id": "10246728",
   "metadata": {},
   "outputs": [],
   "source": [
    "def cfr_title_model(record): #this does not work: too slow\n",
    "    embeddings = {}\n",
    "    word_title_list = record['title']\n",
    "    ID = record['ID']\n",
    "\n",
    "    for word in word_title_list:\n",
    "        embeddings[word]=filtered_model[filtered_model[0] == word]\n",
    "    \n",
    "    return{'ID':ID,\n",
    "          'embeddings':embeddings}"
   ]
  },
  {
   "cell_type": "code",
   "execution_count": 71,
   "id": "eb7b4662",
   "metadata": {},
   "outputs": [],
   "source": [
    "dp=titles.map(cfr_title_model)"
   ]
  },
  {
   "cell_type": "code",
   "execution_count": 72,
   "id": "067b1712",
   "metadata": {},
   "outputs": [
    {
     "ename": "AttributeError",
     "evalue": "'list' object has no attribute 'compute'",
     "output_type": "error",
     "traceback": [
      "\u001b[0;31m---------------------------------------------------------------------------\u001b[0m",
      "\u001b[0;31mAttributeError\u001b[0m                            Traceback (most recent call last)",
      "Input \u001b[0;32mIn [72]\u001b[0m, in \u001b[0;36m<cell line: 1>\u001b[0;34m()\u001b[0m\n\u001b[0;32m----> 1\u001b[0m dataframe_dp \u001b[38;5;241m=\u001b[39m \u001b[43mdp\u001b[49m\u001b[38;5;241;43m.\u001b[39;49m\u001b[43mto_dataframe\u001b[49m\u001b[43m(\u001b[49m\u001b[43m)\u001b[49m\n",
      "File \u001b[0;32m/usr/local/lib/python3.8/dist-packages/dask/bag/core.py:1597\u001b[0m, in \u001b[0;36mBag.to_dataframe\u001b[0;34m(self, meta, columns, optimize_graph)\u001b[0m\n\u001b[1;32m   1594\u001b[0m \u001b[38;5;28;01mimport\u001b[39;00m \u001b[38;5;21;01mdask\u001b[39;00m\u001b[38;5;21;01m.\u001b[39;00m\u001b[38;5;21;01mdataframe\u001b[39;00m \u001b[38;5;28;01mas\u001b[39;00m \u001b[38;5;21;01mdd\u001b[39;00m\n\u001b[1;32m   1596\u001b[0m \u001b[38;5;28;01mif\u001b[39;00m meta \u001b[38;5;129;01mis\u001b[39;00m \u001b[38;5;28;01mNone\u001b[39;00m:\n\u001b[0;32m-> 1597\u001b[0m     head \u001b[38;5;241m=\u001b[39m \u001b[38;5;28;43mself\u001b[39;49m\u001b[38;5;241;43m.\u001b[39;49m\u001b[43mtake\u001b[49m\u001b[43m(\u001b[49m\u001b[38;5;241;43m1\u001b[39;49m\u001b[43m,\u001b[49m\u001b[43m \u001b[49m\u001b[43mwarn\u001b[49m\u001b[38;5;241;43m=\u001b[39;49m\u001b[38;5;28;43;01mFalse\u001b[39;49;00m\u001b[43m)\u001b[49m\n\u001b[1;32m   1598\u001b[0m     \u001b[38;5;28;01mif\u001b[39;00m \u001b[38;5;28mlen\u001b[39m(head) \u001b[38;5;241m==\u001b[39m \u001b[38;5;241m0\u001b[39m:\n\u001b[1;32m   1599\u001b[0m         \u001b[38;5;28;01mraise\u001b[39;00m \u001b[38;5;167;01mValueError\u001b[39;00m(\n\u001b[1;32m   1600\u001b[0m             \u001b[38;5;124m\"\u001b[39m\u001b[38;5;124m`dask.bag.Bag.to_dataframe` failed to \u001b[39m\u001b[38;5;124m\"\u001b[39m\n\u001b[1;32m   1601\u001b[0m             \u001b[38;5;124m\"\u001b[39m\u001b[38;5;124mproperly infer metadata, please pass in \u001b[39m\u001b[38;5;124m\"\u001b[39m\n\u001b[1;32m   1602\u001b[0m             \u001b[38;5;124m\"\u001b[39m\u001b[38;5;124mmetadata via the `meta` keyword\u001b[39m\u001b[38;5;124m\"\u001b[39m\n\u001b[1;32m   1603\u001b[0m         )\n",
      "File \u001b[0;32m/usr/local/lib/python3.8/dist-packages/dask/bag/core.py:1456\u001b[0m, in \u001b[0;36mBag.take\u001b[0;34m(self, k, npartitions, compute, warn)\u001b[0m\n\u001b[1;32m   1453\u001b[0m b \u001b[38;5;241m=\u001b[39m Bag(graph, name, \u001b[38;5;241m1\u001b[39m)\n\u001b[1;32m   1455\u001b[0m \u001b[38;5;28;01mif\u001b[39;00m compute:\n\u001b[0;32m-> 1456\u001b[0m     \u001b[38;5;28;01mreturn\u001b[39;00m \u001b[38;5;28mtuple\u001b[39m(\u001b[43mb\u001b[49m\u001b[38;5;241;43m.\u001b[39;49m\u001b[43mcompute\u001b[49m\u001b[43m(\u001b[49m\u001b[43m)\u001b[49m)\n\u001b[1;32m   1457\u001b[0m \u001b[38;5;28;01melse\u001b[39;00m:\n\u001b[1;32m   1458\u001b[0m     \u001b[38;5;28;01mreturn\u001b[39;00m b\n",
      "File \u001b[0;32m/usr/local/lib/python3.8/dist-packages/dask/base.py:314\u001b[0m, in \u001b[0;36mDaskMethodsMixin.compute\u001b[0;34m(self, **kwargs)\u001b[0m\n\u001b[1;32m    290\u001b[0m \u001b[38;5;28;01mdef\u001b[39;00m \u001b[38;5;21mcompute\u001b[39m(\u001b[38;5;28mself\u001b[39m, \u001b[38;5;241m*\u001b[39m\u001b[38;5;241m*\u001b[39mkwargs):\n\u001b[1;32m    291\u001b[0m     \u001b[38;5;124;03m\"\"\"Compute this dask collection\u001b[39;00m\n\u001b[1;32m    292\u001b[0m \n\u001b[1;32m    293\u001b[0m \u001b[38;5;124;03m    This turns a lazy Dask collection into its in-memory equivalent.\u001b[39;00m\n\u001b[0;32m   (...)\u001b[0m\n\u001b[1;32m    312\u001b[0m \u001b[38;5;124;03m    dask.base.compute\u001b[39;00m\n\u001b[1;32m    313\u001b[0m \u001b[38;5;124;03m    \"\"\"\u001b[39;00m\n\u001b[0;32m--> 314\u001b[0m     (result,) \u001b[38;5;241m=\u001b[39m \u001b[43mcompute\u001b[49m\u001b[43m(\u001b[49m\u001b[38;5;28;43mself\u001b[39;49m\u001b[43m,\u001b[49m\u001b[43m \u001b[49m\u001b[43mtraverse\u001b[49m\u001b[38;5;241;43m=\u001b[39;49m\u001b[38;5;28;43;01mFalse\u001b[39;49;00m\u001b[43m,\u001b[49m\u001b[43m \u001b[49m\u001b[38;5;241;43m*\u001b[39;49m\u001b[38;5;241;43m*\u001b[39;49m\u001b[43mkwargs\u001b[49m\u001b[43m)\u001b[49m\n\u001b[1;32m    315\u001b[0m     \u001b[38;5;28;01mreturn\u001b[39;00m result\n",
      "File \u001b[0;32m/usr/local/lib/python3.8/dist-packages/dask/base.py:602\u001b[0m, in \u001b[0;36mcompute\u001b[0;34m(traverse, optimize_graph, scheduler, get, *args, **kwargs)\u001b[0m\n\u001b[1;32m    599\u001b[0m     keys\u001b[38;5;241m.\u001b[39mappend(x\u001b[38;5;241m.\u001b[39m__dask_keys__())\n\u001b[1;32m    600\u001b[0m     postcomputes\u001b[38;5;241m.\u001b[39mappend(x\u001b[38;5;241m.\u001b[39m__dask_postcompute__())\n\u001b[0;32m--> 602\u001b[0m results \u001b[38;5;241m=\u001b[39m \u001b[43mschedule\u001b[49m\u001b[43m(\u001b[49m\u001b[43mdsk\u001b[49m\u001b[43m,\u001b[49m\u001b[43m \u001b[49m\u001b[43mkeys\u001b[49m\u001b[43m,\u001b[49m\u001b[43m \u001b[49m\u001b[38;5;241;43m*\u001b[39;49m\u001b[38;5;241;43m*\u001b[39;49m\u001b[43mkwargs\u001b[49m\u001b[43m)\u001b[49m\n\u001b[1;32m    603\u001b[0m \u001b[38;5;28;01mreturn\u001b[39;00m repack([f(r, \u001b[38;5;241m*\u001b[39ma) \u001b[38;5;28;01mfor\u001b[39;00m r, (f, a) \u001b[38;5;129;01min\u001b[39;00m \u001b[38;5;28mzip\u001b[39m(results, postcomputes)])\n",
      "File \u001b[0;32m/usr/local/lib/python3.8/dist-packages/distributed/client.py:3000\u001b[0m, in \u001b[0;36mClient.get\u001b[0;34m(self, dsk, keys, workers, allow_other_workers, resources, sync, asynchronous, direct, retries, priority, fifo_timeout, actors, **kwargs)\u001b[0m\n\u001b[1;32m   2998\u001b[0m         should_rejoin \u001b[38;5;241m=\u001b[39m \u001b[38;5;28;01mFalse\u001b[39;00m\n\u001b[1;32m   2999\u001b[0m \u001b[38;5;28;01mtry\u001b[39;00m:\n\u001b[0;32m-> 3000\u001b[0m     results \u001b[38;5;241m=\u001b[39m \u001b[38;5;28;43mself\u001b[39;49m\u001b[38;5;241;43m.\u001b[39;49m\u001b[43mgather\u001b[49m\u001b[43m(\u001b[49m\u001b[43mpacked\u001b[49m\u001b[43m,\u001b[49m\u001b[43m \u001b[49m\u001b[43masynchronous\u001b[49m\u001b[38;5;241;43m=\u001b[39;49m\u001b[43masynchronous\u001b[49m\u001b[43m,\u001b[49m\u001b[43m \u001b[49m\u001b[43mdirect\u001b[49m\u001b[38;5;241;43m=\u001b[39;49m\u001b[43mdirect\u001b[49m\u001b[43m)\u001b[49m\n\u001b[1;32m   3001\u001b[0m \u001b[38;5;28;01mfinally\u001b[39;00m:\n\u001b[1;32m   3002\u001b[0m     \u001b[38;5;28;01mfor\u001b[39;00m f \u001b[38;5;129;01min\u001b[39;00m futures\u001b[38;5;241m.\u001b[39mvalues():\n",
      "File \u001b[0;32m/usr/local/lib/python3.8/dist-packages/distributed/client.py:2174\u001b[0m, in \u001b[0;36mClient.gather\u001b[0;34m(self, futures, errors, direct, asynchronous)\u001b[0m\n\u001b[1;32m   2172\u001b[0m \u001b[38;5;28;01melse\u001b[39;00m:\n\u001b[1;32m   2173\u001b[0m     local_worker \u001b[38;5;241m=\u001b[39m \u001b[38;5;28;01mNone\u001b[39;00m\n\u001b[0;32m-> 2174\u001b[0m \u001b[38;5;28;01mreturn\u001b[39;00m \u001b[38;5;28;43mself\u001b[39;49m\u001b[38;5;241;43m.\u001b[39;49m\u001b[43msync\u001b[49m\u001b[43m(\u001b[49m\n\u001b[1;32m   2175\u001b[0m \u001b[43m    \u001b[49m\u001b[38;5;28;43mself\u001b[39;49m\u001b[38;5;241;43m.\u001b[39;49m\u001b[43m_gather\u001b[49m\u001b[43m,\u001b[49m\n\u001b[1;32m   2176\u001b[0m \u001b[43m    \u001b[49m\u001b[43mfutures\u001b[49m\u001b[43m,\u001b[49m\n\u001b[1;32m   2177\u001b[0m \u001b[43m    \u001b[49m\u001b[43merrors\u001b[49m\u001b[38;5;241;43m=\u001b[39;49m\u001b[43merrors\u001b[49m\u001b[43m,\u001b[49m\n\u001b[1;32m   2178\u001b[0m \u001b[43m    \u001b[49m\u001b[43mdirect\u001b[49m\u001b[38;5;241;43m=\u001b[39;49m\u001b[43mdirect\u001b[49m\u001b[43m,\u001b[49m\n\u001b[1;32m   2179\u001b[0m \u001b[43m    \u001b[49m\u001b[43mlocal_worker\u001b[49m\u001b[38;5;241;43m=\u001b[39;49m\u001b[43mlocal_worker\u001b[49m\u001b[43m,\u001b[49m\n\u001b[1;32m   2180\u001b[0m \u001b[43m    \u001b[49m\u001b[43masynchronous\u001b[49m\u001b[38;5;241;43m=\u001b[39;49m\u001b[43masynchronous\u001b[49m\u001b[43m,\u001b[49m\n\u001b[1;32m   2181\u001b[0m \u001b[43m\u001b[49m\u001b[43m)\u001b[49m\n",
      "File \u001b[0;32m/usr/local/lib/python3.8/dist-packages/distributed/utils.py:336\u001b[0m, in \u001b[0;36mSyncMethodMixin.sync\u001b[0;34m(self, func, asynchronous, callback_timeout, *args, **kwargs)\u001b[0m\n\u001b[1;32m    334\u001b[0m     \u001b[38;5;28;01mreturn\u001b[39;00m future\n\u001b[1;32m    335\u001b[0m \u001b[38;5;28;01melse\u001b[39;00m:\n\u001b[0;32m--> 336\u001b[0m     \u001b[38;5;28;01mreturn\u001b[39;00m \u001b[43msync\u001b[49m\u001b[43m(\u001b[49m\n\u001b[1;32m    337\u001b[0m \u001b[43m        \u001b[49m\u001b[38;5;28;43mself\u001b[39;49m\u001b[38;5;241;43m.\u001b[39;49m\u001b[43mloop\u001b[49m\u001b[43m,\u001b[49m\u001b[43m \u001b[49m\u001b[43mfunc\u001b[49m\u001b[43m,\u001b[49m\u001b[43m \u001b[49m\u001b[38;5;241;43m*\u001b[39;49m\u001b[43margs\u001b[49m\u001b[43m,\u001b[49m\u001b[43m \u001b[49m\u001b[43mcallback_timeout\u001b[49m\u001b[38;5;241;43m=\u001b[39;49m\u001b[43mcallback_timeout\u001b[49m\u001b[43m,\u001b[49m\u001b[43m \u001b[49m\u001b[38;5;241;43m*\u001b[39;49m\u001b[38;5;241;43m*\u001b[39;49m\u001b[43mkwargs\u001b[49m\n\u001b[1;32m    338\u001b[0m \u001b[43m    \u001b[49m\u001b[43m)\u001b[49m\n",
      "File \u001b[0;32m/usr/local/lib/python3.8/dist-packages/distributed/utils.py:403\u001b[0m, in \u001b[0;36msync\u001b[0;34m(loop, func, callback_timeout, *args, **kwargs)\u001b[0m\n\u001b[1;32m    401\u001b[0m \u001b[38;5;28;01mif\u001b[39;00m error:\n\u001b[1;32m    402\u001b[0m     typ, exc, tb \u001b[38;5;241m=\u001b[39m error\n\u001b[0;32m--> 403\u001b[0m     \u001b[38;5;28;01mraise\u001b[39;00m exc\u001b[38;5;241m.\u001b[39mwith_traceback(tb)\n\u001b[1;32m    404\u001b[0m \u001b[38;5;28;01melse\u001b[39;00m:\n\u001b[1;32m    405\u001b[0m     \u001b[38;5;28;01mreturn\u001b[39;00m result\n",
      "File \u001b[0;32m/usr/local/lib/python3.8/dist-packages/distributed/utils.py:376\u001b[0m, in \u001b[0;36msync.<locals>.f\u001b[0;34m()\u001b[0m\n\u001b[1;32m    374\u001b[0m         future \u001b[38;5;241m=\u001b[39m asyncio\u001b[38;5;241m.\u001b[39mwait_for(future, callback_timeout)\n\u001b[1;32m    375\u001b[0m     future \u001b[38;5;241m=\u001b[39m asyncio\u001b[38;5;241m.\u001b[39mensure_future(future)\n\u001b[0;32m--> 376\u001b[0m     result \u001b[38;5;241m=\u001b[39m \u001b[38;5;28;01myield\u001b[39;00m future\n\u001b[1;32m    377\u001b[0m \u001b[38;5;28;01mexcept\u001b[39;00m \u001b[38;5;167;01mException\u001b[39;00m:\n\u001b[1;32m    378\u001b[0m     error \u001b[38;5;241m=\u001b[39m sys\u001b[38;5;241m.\u001b[39mexc_info()\n",
      "File \u001b[0;32m/usr/local/lib/python3.8/dist-packages/tornado/gen.py:769\u001b[0m, in \u001b[0;36mRunner.run\u001b[0;34m(self)\u001b[0m\n\u001b[1;32m    766\u001b[0m exc_info \u001b[38;5;241m=\u001b[39m \u001b[38;5;28;01mNone\u001b[39;00m\n\u001b[1;32m    768\u001b[0m \u001b[38;5;28;01mtry\u001b[39;00m:\n\u001b[0;32m--> 769\u001b[0m     value \u001b[38;5;241m=\u001b[39m \u001b[43mfuture\u001b[49m\u001b[38;5;241;43m.\u001b[39;49m\u001b[43mresult\u001b[49m\u001b[43m(\u001b[49m\u001b[43m)\u001b[49m\n\u001b[1;32m    770\u001b[0m \u001b[38;5;28;01mexcept\u001b[39;00m \u001b[38;5;167;01mException\u001b[39;00m:\n\u001b[1;32m    771\u001b[0m     exc_info \u001b[38;5;241m=\u001b[39m sys\u001b[38;5;241m.\u001b[39mexc_info()\n",
      "File \u001b[0;32m/usr/local/lib/python3.8/dist-packages/distributed/client.py:2037\u001b[0m, in \u001b[0;36mClient._gather\u001b[0;34m(self, futures, errors, direct, local_worker)\u001b[0m\n\u001b[1;32m   2035\u001b[0m         exc \u001b[38;5;241m=\u001b[39m CancelledError(key)\n\u001b[1;32m   2036\u001b[0m     \u001b[38;5;28;01melse\u001b[39;00m:\n\u001b[0;32m-> 2037\u001b[0m         \u001b[38;5;28;01mraise\u001b[39;00m exception\u001b[38;5;241m.\u001b[39mwith_traceback(traceback)\n\u001b[1;32m   2038\u001b[0m     \u001b[38;5;28;01mraise\u001b[39;00m exc\n\u001b[1;32m   2039\u001b[0m \u001b[38;5;28;01mif\u001b[39;00m errors \u001b[38;5;241m==\u001b[39m \u001b[38;5;124m\"\u001b[39m\u001b[38;5;124mskip\u001b[39m\u001b[38;5;124m\"\u001b[39m:\n",
      "File \u001b[0;32m/usr/local/lib/python3.8/dist-packages/dask/bag/core.py:2503\u001b[0m, in \u001b[0;36msafe_take\u001b[0;34m()\u001b[0m\n\u001b[1;32m   2502\u001b[0m \u001b[38;5;28;01mdef\u001b[39;00m \u001b[38;5;21msafe_take\u001b[39m(n, b, warn\u001b[38;5;241m=\u001b[39m\u001b[38;5;28;01mTrue\u001b[39;00m):\n\u001b[0;32m-> 2503\u001b[0m     r \u001b[38;5;241m=\u001b[39m \u001b[38;5;28mlist\u001b[39m(take(n, b))\n\u001b[1;32m   2504\u001b[0m     \u001b[38;5;28;01mif\u001b[39;00m \u001b[38;5;28mlen\u001b[39m(r) \u001b[38;5;241m!=\u001b[39m n \u001b[38;5;129;01mand\u001b[39;00m warn:\n\u001b[1;32m   2505\u001b[0m         warnings\u001b[38;5;241m.\u001b[39mwarn(\n\u001b[1;32m   2506\u001b[0m             \u001b[38;5;124mf\u001b[39m\u001b[38;5;124m\"\u001b[39m\u001b[38;5;124mInsufficient elements for `take`. \u001b[39m\u001b[38;5;132;01m{\u001b[39;00mn\u001b[38;5;132;01m}\u001b[39;00m\u001b[38;5;124m elements requested, only \u001b[39m\u001b[38;5;132;01m{\u001b[39;00m\u001b[38;5;28mlen\u001b[39m(r)\u001b[38;5;132;01m}\u001b[39;00m\u001b[38;5;124m \u001b[39m\u001b[38;5;124m\"\u001b[39m\n\u001b[1;32m   2507\u001b[0m             \u001b[38;5;124m\"\u001b[39m\u001b[38;5;124melements available. Try passing larger `npartitions` to `take`.\u001b[39m\u001b[38;5;124m\"\u001b[39m\n\u001b[1;32m   2508\u001b[0m         )\n",
      "File \u001b[0;32m/usr/local/lib/python3.8/dist-packages/dask/bag/core.py:2042\u001b[0m, in \u001b[0;36m__next__\u001b[0;34m()\u001b[0m\n\u001b[1;32m   2040\u001b[0m     kwargs \u001b[38;5;241m=\u001b[39m \u001b[38;5;28mdict\u001b[39m(\u001b[38;5;28mzip\u001b[39m(\u001b[38;5;28mself\u001b[39m\u001b[38;5;241m.\u001b[39mkwarg_keys, vals[\u001b[38;5;241m-\u001b[39m\u001b[38;5;28mself\u001b[39m\u001b[38;5;241m.\u001b[39mnkws :]))\n\u001b[1;32m   2041\u001b[0m     \u001b[38;5;28;01mreturn\u001b[39;00m \u001b[38;5;28mself\u001b[39m\u001b[38;5;241m.\u001b[39mf(\u001b[38;5;241m*\u001b[39margs, \u001b[38;5;241m*\u001b[39m\u001b[38;5;241m*\u001b[39mkwargs)\n\u001b[0;32m-> 2042\u001b[0m \u001b[38;5;28;01mreturn\u001b[39;00m \u001b[38;5;28mself\u001b[39m\u001b[38;5;241m.\u001b[39mf(\u001b[38;5;241m*\u001b[39mvals)\n",
      "Input \u001b[0;32mIn [70]\u001b[0m, in \u001b[0;36mcfr_title_model\u001b[0;34m()\u001b[0m\n\u001b[1;32m     13\u001b[0m     r\u001b[38;5;241m=\u001b[39mdelayed(auxfun)(word,embeddings)\n\u001b[1;32m     14\u001b[0m     l\u001b[38;5;241m.\u001b[39mappend(r)\n\u001b[0;32m---> 15\u001b[0m l\u001b[38;5;241m.\u001b[39mcompute()\n\u001b[1;32m     17\u001b[0m \u001b[38;5;28;01mreturn\u001b[39;00m{\u001b[38;5;124m'\u001b[39m\u001b[38;5;124mID\u001b[39m\u001b[38;5;124m'\u001b[39m:ID,\n\u001b[1;32m     18\u001b[0m       \u001b[38;5;124m'\u001b[39m\u001b[38;5;124membeddings\u001b[39m\u001b[38;5;124m'\u001b[39m:embeddings}\n",
      "\u001b[0;31mAttributeError\u001b[0m: 'list' object has no attribute 'compute'"
     ]
    }
   ],
   "source": [
    "dataframe_dp = dp.to_dataframe()"
   ]
  },
  {
   "cell_type": "code",
   "execution_count": 69,
   "id": "1e32dafc",
   "metadata": {},
   "outputs": [
    {
     "ename": "UnboundLocalError",
     "evalue": "local variable 'r' referenced before assignment",
     "output_type": "error",
     "traceback": [
      "\u001b[0;31m---------------------------------------------------------------------------\u001b[0m",
      "\u001b[0;31mUnboundLocalError\u001b[0m                         Traceback (most recent call last)",
      "Input \u001b[0;32mIn [69]\u001b[0m, in \u001b[0;36m<cell line: 1>\u001b[0;34m()\u001b[0m\n\u001b[0;32m----> 1\u001b[0m \u001b[43mdataframe_dp\u001b[49m\u001b[43m[\u001b[49m\u001b[43mdataframe_dp\u001b[49m\u001b[43m[\u001b[49m\u001b[38;5;124;43m'\u001b[39;49m\u001b[38;5;124;43mID\u001b[39;49m\u001b[38;5;124;43m'\u001b[39;49m\u001b[43m]\u001b[49m\u001b[43m \u001b[49m\u001b[38;5;241;43m==\u001b[39;49m\u001b[43m \u001b[49m\u001b[38;5;124;43m'\u001b[39;49m\u001b[38;5;124;43m0021ebe4404bb7aea40f696a8261b6bd1d4a7f6b\u001b[39;49m\u001b[38;5;124;43m'\u001b[39;49m\u001b[43m]\u001b[49m\u001b[43m[\u001b[49m\u001b[38;5;124;43m'\u001b[39;49m\u001b[38;5;124;43membeddings\u001b[39;49m\u001b[38;5;124;43m'\u001b[39;49m\u001b[43m]\u001b[49m\u001b[38;5;241;43m.\u001b[39;49m\u001b[43mcompute\u001b[49m\u001b[43m(\u001b[49m\u001b[43m)\u001b[49m\n",
      "File \u001b[0;32m/usr/local/lib/python3.8/dist-packages/dask/base.py:314\u001b[0m, in \u001b[0;36mDaskMethodsMixin.compute\u001b[0;34m(self, **kwargs)\u001b[0m\n\u001b[1;32m    290\u001b[0m \u001b[38;5;28;01mdef\u001b[39;00m \u001b[38;5;21mcompute\u001b[39m(\u001b[38;5;28mself\u001b[39m, \u001b[38;5;241m*\u001b[39m\u001b[38;5;241m*\u001b[39mkwargs):\n\u001b[1;32m    291\u001b[0m     \u001b[38;5;124;03m\"\"\"Compute this dask collection\u001b[39;00m\n\u001b[1;32m    292\u001b[0m \n\u001b[1;32m    293\u001b[0m \u001b[38;5;124;03m    This turns a lazy Dask collection into its in-memory equivalent.\u001b[39;00m\n\u001b[0;32m   (...)\u001b[0m\n\u001b[1;32m    312\u001b[0m \u001b[38;5;124;03m    dask.base.compute\u001b[39;00m\n\u001b[1;32m    313\u001b[0m \u001b[38;5;124;03m    \"\"\"\u001b[39;00m\n\u001b[0;32m--> 314\u001b[0m     (result,) \u001b[38;5;241m=\u001b[39m \u001b[43mcompute\u001b[49m\u001b[43m(\u001b[49m\u001b[38;5;28;43mself\u001b[39;49m\u001b[43m,\u001b[49m\u001b[43m \u001b[49m\u001b[43mtraverse\u001b[49m\u001b[38;5;241;43m=\u001b[39;49m\u001b[38;5;28;43;01mFalse\u001b[39;49;00m\u001b[43m,\u001b[49m\u001b[43m \u001b[49m\u001b[38;5;241;43m*\u001b[39;49m\u001b[38;5;241;43m*\u001b[39;49m\u001b[43mkwargs\u001b[49m\u001b[43m)\u001b[49m\n\u001b[1;32m    315\u001b[0m     \u001b[38;5;28;01mreturn\u001b[39;00m result\n",
      "File \u001b[0;32m/usr/local/lib/python3.8/dist-packages/dask/base.py:602\u001b[0m, in \u001b[0;36mcompute\u001b[0;34m(traverse, optimize_graph, scheduler, get, *args, **kwargs)\u001b[0m\n\u001b[1;32m    599\u001b[0m     keys\u001b[38;5;241m.\u001b[39mappend(x\u001b[38;5;241m.\u001b[39m__dask_keys__())\n\u001b[1;32m    600\u001b[0m     postcomputes\u001b[38;5;241m.\u001b[39mappend(x\u001b[38;5;241m.\u001b[39m__dask_postcompute__())\n\u001b[0;32m--> 602\u001b[0m results \u001b[38;5;241m=\u001b[39m \u001b[43mschedule\u001b[49m\u001b[43m(\u001b[49m\u001b[43mdsk\u001b[49m\u001b[43m,\u001b[49m\u001b[43m \u001b[49m\u001b[43mkeys\u001b[49m\u001b[43m,\u001b[49m\u001b[43m \u001b[49m\u001b[38;5;241;43m*\u001b[39;49m\u001b[38;5;241;43m*\u001b[39;49m\u001b[43mkwargs\u001b[49m\u001b[43m)\u001b[49m\n\u001b[1;32m    603\u001b[0m \u001b[38;5;28;01mreturn\u001b[39;00m repack([f(r, \u001b[38;5;241m*\u001b[39ma) \u001b[38;5;28;01mfor\u001b[39;00m r, (f, a) \u001b[38;5;129;01min\u001b[39;00m \u001b[38;5;28mzip\u001b[39m(results, postcomputes)])\n",
      "File \u001b[0;32m/usr/local/lib/python3.8/dist-packages/distributed/client.py:3000\u001b[0m, in \u001b[0;36mClient.get\u001b[0;34m(self, dsk, keys, workers, allow_other_workers, resources, sync, asynchronous, direct, retries, priority, fifo_timeout, actors, **kwargs)\u001b[0m\n\u001b[1;32m   2998\u001b[0m         should_rejoin \u001b[38;5;241m=\u001b[39m \u001b[38;5;28;01mFalse\u001b[39;00m\n\u001b[1;32m   2999\u001b[0m \u001b[38;5;28;01mtry\u001b[39;00m:\n\u001b[0;32m-> 3000\u001b[0m     results \u001b[38;5;241m=\u001b[39m \u001b[38;5;28;43mself\u001b[39;49m\u001b[38;5;241;43m.\u001b[39;49m\u001b[43mgather\u001b[49m\u001b[43m(\u001b[49m\u001b[43mpacked\u001b[49m\u001b[43m,\u001b[49m\u001b[43m \u001b[49m\u001b[43masynchronous\u001b[49m\u001b[38;5;241;43m=\u001b[39;49m\u001b[43masynchronous\u001b[49m\u001b[43m,\u001b[49m\u001b[43m \u001b[49m\u001b[43mdirect\u001b[49m\u001b[38;5;241;43m=\u001b[39;49m\u001b[43mdirect\u001b[49m\u001b[43m)\u001b[49m\n\u001b[1;32m   3001\u001b[0m \u001b[38;5;28;01mfinally\u001b[39;00m:\n\u001b[1;32m   3002\u001b[0m     \u001b[38;5;28;01mfor\u001b[39;00m f \u001b[38;5;129;01min\u001b[39;00m futures\u001b[38;5;241m.\u001b[39mvalues():\n",
      "File \u001b[0;32m/usr/local/lib/python3.8/dist-packages/distributed/client.py:2174\u001b[0m, in \u001b[0;36mClient.gather\u001b[0;34m(self, futures, errors, direct, asynchronous)\u001b[0m\n\u001b[1;32m   2172\u001b[0m \u001b[38;5;28;01melse\u001b[39;00m:\n\u001b[1;32m   2173\u001b[0m     local_worker \u001b[38;5;241m=\u001b[39m \u001b[38;5;28;01mNone\u001b[39;00m\n\u001b[0;32m-> 2174\u001b[0m \u001b[38;5;28;01mreturn\u001b[39;00m \u001b[38;5;28;43mself\u001b[39;49m\u001b[38;5;241;43m.\u001b[39;49m\u001b[43msync\u001b[49m\u001b[43m(\u001b[49m\n\u001b[1;32m   2175\u001b[0m \u001b[43m    \u001b[49m\u001b[38;5;28;43mself\u001b[39;49m\u001b[38;5;241;43m.\u001b[39;49m\u001b[43m_gather\u001b[49m\u001b[43m,\u001b[49m\n\u001b[1;32m   2176\u001b[0m \u001b[43m    \u001b[49m\u001b[43mfutures\u001b[49m\u001b[43m,\u001b[49m\n\u001b[1;32m   2177\u001b[0m \u001b[43m    \u001b[49m\u001b[43merrors\u001b[49m\u001b[38;5;241;43m=\u001b[39;49m\u001b[43merrors\u001b[49m\u001b[43m,\u001b[49m\n\u001b[1;32m   2178\u001b[0m \u001b[43m    \u001b[49m\u001b[43mdirect\u001b[49m\u001b[38;5;241;43m=\u001b[39;49m\u001b[43mdirect\u001b[49m\u001b[43m,\u001b[49m\n\u001b[1;32m   2179\u001b[0m \u001b[43m    \u001b[49m\u001b[43mlocal_worker\u001b[49m\u001b[38;5;241;43m=\u001b[39;49m\u001b[43mlocal_worker\u001b[49m\u001b[43m,\u001b[49m\n\u001b[1;32m   2180\u001b[0m \u001b[43m    \u001b[49m\u001b[43masynchronous\u001b[49m\u001b[38;5;241;43m=\u001b[39;49m\u001b[43masynchronous\u001b[49m\u001b[43m,\u001b[49m\n\u001b[1;32m   2181\u001b[0m \u001b[43m\u001b[49m\u001b[43m)\u001b[49m\n",
      "File \u001b[0;32m/usr/local/lib/python3.8/dist-packages/distributed/utils.py:336\u001b[0m, in \u001b[0;36mSyncMethodMixin.sync\u001b[0;34m(self, func, asynchronous, callback_timeout, *args, **kwargs)\u001b[0m\n\u001b[1;32m    334\u001b[0m     \u001b[38;5;28;01mreturn\u001b[39;00m future\n\u001b[1;32m    335\u001b[0m \u001b[38;5;28;01melse\u001b[39;00m:\n\u001b[0;32m--> 336\u001b[0m     \u001b[38;5;28;01mreturn\u001b[39;00m \u001b[43msync\u001b[49m\u001b[43m(\u001b[49m\n\u001b[1;32m    337\u001b[0m \u001b[43m        \u001b[49m\u001b[38;5;28;43mself\u001b[39;49m\u001b[38;5;241;43m.\u001b[39;49m\u001b[43mloop\u001b[49m\u001b[43m,\u001b[49m\u001b[43m \u001b[49m\u001b[43mfunc\u001b[49m\u001b[43m,\u001b[49m\u001b[43m \u001b[49m\u001b[38;5;241;43m*\u001b[39;49m\u001b[43margs\u001b[49m\u001b[43m,\u001b[49m\u001b[43m \u001b[49m\u001b[43mcallback_timeout\u001b[49m\u001b[38;5;241;43m=\u001b[39;49m\u001b[43mcallback_timeout\u001b[49m\u001b[43m,\u001b[49m\u001b[43m \u001b[49m\u001b[38;5;241;43m*\u001b[39;49m\u001b[38;5;241;43m*\u001b[39;49m\u001b[43mkwargs\u001b[49m\n\u001b[1;32m    338\u001b[0m \u001b[43m    \u001b[49m\u001b[43m)\u001b[49m\n",
      "File \u001b[0;32m/usr/local/lib/python3.8/dist-packages/distributed/utils.py:403\u001b[0m, in \u001b[0;36msync\u001b[0;34m(loop, func, callback_timeout, *args, **kwargs)\u001b[0m\n\u001b[1;32m    401\u001b[0m \u001b[38;5;28;01mif\u001b[39;00m error:\n\u001b[1;32m    402\u001b[0m     typ, exc, tb \u001b[38;5;241m=\u001b[39m error\n\u001b[0;32m--> 403\u001b[0m     \u001b[38;5;28;01mraise\u001b[39;00m exc\u001b[38;5;241m.\u001b[39mwith_traceback(tb)\n\u001b[1;32m    404\u001b[0m \u001b[38;5;28;01melse\u001b[39;00m:\n\u001b[1;32m    405\u001b[0m     \u001b[38;5;28;01mreturn\u001b[39;00m result\n",
      "File \u001b[0;32m/usr/local/lib/python3.8/dist-packages/distributed/utils.py:376\u001b[0m, in \u001b[0;36msync.<locals>.f\u001b[0;34m()\u001b[0m\n\u001b[1;32m    374\u001b[0m         future \u001b[38;5;241m=\u001b[39m asyncio\u001b[38;5;241m.\u001b[39mwait_for(future, callback_timeout)\n\u001b[1;32m    375\u001b[0m     future \u001b[38;5;241m=\u001b[39m asyncio\u001b[38;5;241m.\u001b[39mensure_future(future)\n\u001b[0;32m--> 376\u001b[0m     result \u001b[38;5;241m=\u001b[39m \u001b[38;5;28;01myield\u001b[39;00m future\n\u001b[1;32m    377\u001b[0m \u001b[38;5;28;01mexcept\u001b[39;00m \u001b[38;5;167;01mException\u001b[39;00m:\n\u001b[1;32m    378\u001b[0m     error \u001b[38;5;241m=\u001b[39m sys\u001b[38;5;241m.\u001b[39mexc_info()\n",
      "File \u001b[0;32m/usr/local/lib/python3.8/dist-packages/tornado/gen.py:769\u001b[0m, in \u001b[0;36mRunner.run\u001b[0;34m(self)\u001b[0m\n\u001b[1;32m    766\u001b[0m exc_info \u001b[38;5;241m=\u001b[39m \u001b[38;5;28;01mNone\u001b[39;00m\n\u001b[1;32m    768\u001b[0m \u001b[38;5;28;01mtry\u001b[39;00m:\n\u001b[0;32m--> 769\u001b[0m     value \u001b[38;5;241m=\u001b[39m \u001b[43mfuture\u001b[49m\u001b[38;5;241;43m.\u001b[39;49m\u001b[43mresult\u001b[49m\u001b[43m(\u001b[49m\u001b[43m)\u001b[49m\n\u001b[1;32m    770\u001b[0m \u001b[38;5;28;01mexcept\u001b[39;00m \u001b[38;5;167;01mException\u001b[39;00m:\n\u001b[1;32m    771\u001b[0m     exc_info \u001b[38;5;241m=\u001b[39m sys\u001b[38;5;241m.\u001b[39mexc_info()\n",
      "File \u001b[0;32m/usr/local/lib/python3.8/dist-packages/distributed/client.py:2037\u001b[0m, in \u001b[0;36mClient._gather\u001b[0;34m(self, futures, errors, direct, local_worker)\u001b[0m\n\u001b[1;32m   2035\u001b[0m         exc \u001b[38;5;241m=\u001b[39m CancelledError(key)\n\u001b[1;32m   2036\u001b[0m     \u001b[38;5;28;01melse\u001b[39;00m:\n\u001b[0;32m-> 2037\u001b[0m         \u001b[38;5;28;01mraise\u001b[39;00m exception\u001b[38;5;241m.\u001b[39mwith_traceback(traceback)\n\u001b[1;32m   2038\u001b[0m     \u001b[38;5;28;01mraise\u001b[39;00m exc\n\u001b[1;32m   2039\u001b[0m \u001b[38;5;28;01mif\u001b[39;00m errors \u001b[38;5;241m==\u001b[39m \u001b[38;5;124m\"\u001b[39m\u001b[38;5;124mskip\u001b[39m\u001b[38;5;124m\"\u001b[39m:\n",
      "File \u001b[0;32m/usr/local/lib/python3.8/dist-packages/dask/optimization.py:990\u001b[0m, in \u001b[0;36m__call__\u001b[0;34m()\u001b[0m\n\u001b[1;32m    988\u001b[0m \u001b[38;5;28;01mif\u001b[39;00m \u001b[38;5;129;01mnot\u001b[39;00m \u001b[38;5;28mlen\u001b[39m(args) \u001b[38;5;241m==\u001b[39m \u001b[38;5;28mlen\u001b[39m(\u001b[38;5;28mself\u001b[39m\u001b[38;5;241m.\u001b[39minkeys):\n\u001b[1;32m    989\u001b[0m     \u001b[38;5;28;01mraise\u001b[39;00m \u001b[38;5;167;01mValueError\u001b[39;00m(\u001b[38;5;124m\"\u001b[39m\u001b[38;5;124mExpected \u001b[39m\u001b[38;5;132;01m%d\u001b[39;00m\u001b[38;5;124m args, got \u001b[39m\u001b[38;5;132;01m%d\u001b[39;00m\u001b[38;5;124m\"\u001b[39m \u001b[38;5;241m%\u001b[39m (\u001b[38;5;28mlen\u001b[39m(\u001b[38;5;28mself\u001b[39m\u001b[38;5;241m.\u001b[39minkeys), \u001b[38;5;28mlen\u001b[39m(args)))\n\u001b[0;32m--> 990\u001b[0m \u001b[38;5;28;01mreturn\u001b[39;00m core\u001b[38;5;241m.\u001b[39mget(\u001b[38;5;28mself\u001b[39m\u001b[38;5;241m.\u001b[39mdsk, \u001b[38;5;28mself\u001b[39m\u001b[38;5;241m.\u001b[39moutkey, \u001b[38;5;28mdict\u001b[39m(\u001b[38;5;28mzip\u001b[39m(\u001b[38;5;28mself\u001b[39m\u001b[38;5;241m.\u001b[39minkeys, args)))\n",
      "File \u001b[0;32m/usr/local/lib/python3.8/dist-packages/dask/core.py:149\u001b[0m, in \u001b[0;36mget\u001b[0;34m()\u001b[0m\n\u001b[1;32m    147\u001b[0m \u001b[38;5;28;01mfor\u001b[39;00m key \u001b[38;5;129;01min\u001b[39;00m toposort(dsk):\n\u001b[1;32m    148\u001b[0m     task \u001b[38;5;241m=\u001b[39m dsk[key]\n\u001b[0;32m--> 149\u001b[0m     result \u001b[38;5;241m=\u001b[39m _execute_task(task, cache)\n\u001b[1;32m    150\u001b[0m     cache[key] \u001b[38;5;241m=\u001b[39m result\n\u001b[1;32m    151\u001b[0m result \u001b[38;5;241m=\u001b[39m _execute_task(out, cache)\n",
      "File \u001b[0;32m/usr/local/lib/python3.8/dist-packages/dask/core.py:119\u001b[0m, in \u001b[0;36m_execute_task\u001b[0;34m()\u001b[0m\n\u001b[1;32m    115\u001b[0m     func, args \u001b[38;5;241m=\u001b[39m arg[\u001b[38;5;241m0\u001b[39m], arg[\u001b[38;5;241m1\u001b[39m:]\n\u001b[1;32m    116\u001b[0m     \u001b[38;5;66;03m# Note: Don't assign the subtask results to a variable. numpy detects\u001b[39;00m\n\u001b[1;32m    117\u001b[0m     \u001b[38;5;66;03m# temporaries by their reference count and can execute certain\u001b[39;00m\n\u001b[1;32m    118\u001b[0m     \u001b[38;5;66;03m# operations in-place.\u001b[39;00m\n\u001b[0;32m--> 119\u001b[0m     \u001b[38;5;28;01mreturn\u001b[39;00m func(\u001b[38;5;241m*\u001b[39m(_execute_task(a, cache) \u001b[38;5;28;01mfor\u001b[39;00m a \u001b[38;5;129;01min\u001b[39;00m args))\n\u001b[1;32m    120\u001b[0m \u001b[38;5;28;01melif\u001b[39;00m \u001b[38;5;129;01mnot\u001b[39;00m ishashable(arg):\n\u001b[1;32m    121\u001b[0m     \u001b[38;5;28;01mreturn\u001b[39;00m arg\n",
      "File \u001b[0;32m/usr/local/lib/python3.8/dist-packages/dask/bag/core.py:2574\u001b[0m, in \u001b[0;36mto_dataframe\u001b[0;34m()\u001b[0m\n\u001b[1;32m   2571\u001b[0m \u001b[38;5;28;01mdef\u001b[39;00m \u001b[38;5;21mto_dataframe\u001b[39m(seq, columns, dtypes):\n\u001b[1;32m   2572\u001b[0m     \u001b[38;5;28;01mimport\u001b[39;00m \u001b[38;5;21;01mpandas\u001b[39;00m \u001b[38;5;28;01mas\u001b[39;00m \u001b[38;5;21;01mpd\u001b[39;00m\n\u001b[0;32m-> 2574\u001b[0m     seq \u001b[38;5;241m=\u001b[39m reify(seq)\n\u001b[1;32m   2575\u001b[0m     \u001b[38;5;66;03m# pd.DataFrame expects lists, only copy if necessary\u001b[39;00m\n\u001b[1;32m   2576\u001b[0m     \u001b[38;5;28;01mif\u001b[39;00m \u001b[38;5;129;01mnot\u001b[39;00m \u001b[38;5;28misinstance\u001b[39m(seq, \u001b[38;5;28mlist\u001b[39m):\n",
      "File \u001b[0;32m/usr/local/lib/python3.8/dist-packages/dask/bag/core.py:1854\u001b[0m, in \u001b[0;36mreify\u001b[0;34m()\u001b[0m\n\u001b[1;32m   1852\u001b[0m \u001b[38;5;28;01mdef\u001b[39;00m \u001b[38;5;21mreify\u001b[39m(seq):\n\u001b[1;32m   1853\u001b[0m     \u001b[38;5;28;01mif\u001b[39;00m \u001b[38;5;28misinstance\u001b[39m(seq, Iterator):\n\u001b[0;32m-> 1854\u001b[0m         seq \u001b[38;5;241m=\u001b[39m \u001b[38;5;28mlist\u001b[39m(seq)\n\u001b[1;32m   1855\u001b[0m     \u001b[38;5;28;01mif\u001b[39;00m \u001b[38;5;28mlen\u001b[39m(seq) \u001b[38;5;129;01mand\u001b[39;00m \u001b[38;5;28misinstance\u001b[39m(seq[\u001b[38;5;241m0\u001b[39m], Iterator):\n\u001b[1;32m   1856\u001b[0m         seq \u001b[38;5;241m=\u001b[39m \u001b[38;5;28mlist\u001b[39m(\u001b[38;5;28mmap\u001b[39m(\u001b[38;5;28mlist\u001b[39m, seq))\n",
      "File \u001b[0;32m/usr/local/lib/python3.8/dist-packages/dask/bag/core.py:2042\u001b[0m, in \u001b[0;36m__next__\u001b[0;34m()\u001b[0m\n\u001b[1;32m   2040\u001b[0m     kwargs \u001b[38;5;241m=\u001b[39m \u001b[38;5;28mdict\u001b[39m(\u001b[38;5;28mzip\u001b[39m(\u001b[38;5;28mself\u001b[39m\u001b[38;5;241m.\u001b[39mkwarg_keys, vals[\u001b[38;5;241m-\u001b[39m\u001b[38;5;28mself\u001b[39m\u001b[38;5;241m.\u001b[39mnkws :]))\n\u001b[1;32m   2041\u001b[0m     \u001b[38;5;28;01mreturn\u001b[39;00m \u001b[38;5;28mself\u001b[39m\u001b[38;5;241m.\u001b[39mf(\u001b[38;5;241m*\u001b[39margs, \u001b[38;5;241m*\u001b[39m\u001b[38;5;241m*\u001b[39mkwargs)\n\u001b[0;32m-> 2042\u001b[0m \u001b[38;5;28;01mreturn\u001b[39;00m \u001b[38;5;28mself\u001b[39m\u001b[38;5;241m.\u001b[39mf(\u001b[38;5;241m*\u001b[39mvals)\n",
      "Input \u001b[0;32mIn [66]\u001b[0m, in \u001b[0;36mcfr_title_model\u001b[0;34m()\u001b[0m\n\u001b[1;32m     13\u001b[0m     r\u001b[38;5;241m=\u001b[39mdelayed(auxfun)(word,embeddings)\n\u001b[1;32m     14\u001b[0m     l\u001b[38;5;241m.\u001b[39mappend(r)\n\u001b[0;32m---> 15\u001b[0m r\u001b[38;5;241m.\u001b[39mcompute()\n\u001b[1;32m     17\u001b[0m \u001b[38;5;28;01mreturn\u001b[39;00m{\u001b[38;5;124m'\u001b[39m\u001b[38;5;124mID\u001b[39m\u001b[38;5;124m'\u001b[39m:ID,\n\u001b[1;32m     18\u001b[0m       \u001b[38;5;124m'\u001b[39m\u001b[38;5;124membeddings\u001b[39m\u001b[38;5;124m'\u001b[39m:embeddings}\n",
      "\u001b[0;31mUnboundLocalError\u001b[0m: local variable 'r' referenced before assignment"
     ]
    }
   ],
   "source": [
    "dataframe_dp[dataframe_dp['ID'] == '0021ebe4404bb7aea40f696a8261b6bd1d4a7f6b']['embeddings'].compute()"
   ]
  }
 ],
 "metadata": {
  "kernelspec": {
   "display_name": "Python 3 (ipykernel)",
   "language": "python",
   "name": "python3"
  },
  "language_info": {
   "codemirror_mode": {
    "name": "ipython",
    "version": 3
   },
   "file_extension": ".py",
   "mimetype": "text/x-python",
   "name": "python",
   "nbconvert_exporter": "python",
   "pygments_lexer": "ipython3",
   "version": "3.8.10"
  }
 },
 "nbformat": 4,
 "nbformat_minor": 5
}
